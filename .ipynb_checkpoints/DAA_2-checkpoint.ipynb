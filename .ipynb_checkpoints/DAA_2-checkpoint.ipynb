{
 "cells": [
  {
   "cell_type": "markdown",
   "id": "6853193a",
   "metadata": {},
   "source": [
    "**Задача**: предсказание баллов ЕГЭ ученика"
   ]
  },
  {
   "cell_type": "code",
   "execution_count": 1,
   "id": "117e0058",
   "metadata": {},
   "outputs": [],
   "source": [
    "import numpy as np\n",
    "import matplotlib.pyplot as plt"
   ]
  },
  {
   "cell_type": "code",
   "execution_count": 2,
   "id": "c027387e",
   "metadata": {},
   "outputs": [],
   "source": [
    "X = np.array([[   1,    1,  500,    1],\n",
    "              [   1,    1,  700,    1],\n",
    "              [   1,    2,  750,    2],\n",
    "              [   1,    5,  600,    1],\n",
    "              [   1,    3, 1450,    2],\n",
    "              [   1,    0,  800,    1],\n",
    "              [   1,    5, 1500,    3],\n",
    "              [   1,   10, 2000,    3],\n",
    "              [   1,    1,  450,    1],\n",
    "              [   1,    2, 1000,    2]])"
   ]
  },
  {
   "cell_type": "code",
   "execution_count": 3,
   "id": "6645d7ea",
   "metadata": {},
   "outputs": [],
   "source": [
    "y = [45, 55, 50, 55, 60, 35, 75, 80, 50, 60]"
   ]
  },
  {
   "cell_type": "markdown",
   "id": "c2ae9a29",
   "metadata": {},
   "source": [
    "**2. Можно ли к одному и тому же признаку применить сразу и нормализацию, и стандартизацию?**"
   ]
  },
  {
   "cell_type": "markdown",
   "id": "41127a4a",
   "metadata": {},
   "source": [
    "Нормализация [0, 1]"
   ]
  },
  {
   "cell_type": "code",
   "execution_count": 4,
   "id": "ab52d7d7",
   "metadata": {},
   "outputs": [
    {
     "data": {
      "text/plain": [
       "(0, 10)"
      ]
     },
     "execution_count": 4,
     "metadata": {},
     "output_type": "execute_result"
    }
   ],
   "source": [
    "X[:, 1].min(), X[:, 1].max()"
   ]
  },
  {
   "cell_type": "code",
   "execution_count": 5,
   "id": "6f7d4061",
   "metadata": {},
   "outputs": [
    {
     "data": {
      "text/plain": [
       "(450, 2000)"
      ]
     },
     "execution_count": 5,
     "metadata": {},
     "output_type": "execute_result"
    }
   ],
   "source": [
    "X[:, 2].min(), X[:, 2].max()"
   ]
  },
  {
   "cell_type": "code",
   "execution_count": 6,
   "id": "6c6a891a",
   "metadata": {},
   "outputs": [],
   "source": [
    "def min_max_scale(X):\n",
    "    return (X - X.min()) / (X.max() - X.min())"
   ]
  },
  {
   "cell_type": "code",
   "execution_count": 7,
   "id": "2fdff82b",
   "metadata": {},
   "outputs": [
    {
     "data": {
      "text/plain": [
       "array([[1.00e+00, 1.00e+00, 5.00e+02, 1.00e+00],\n",
       "       [1.00e+00, 1.00e+00, 7.00e+02, 1.00e+00],\n",
       "       [1.00e+00, 2.00e+00, 7.50e+02, 2.00e+00],\n",
       "       [1.00e+00, 5.00e+00, 6.00e+02, 1.00e+00],\n",
       "       [1.00e+00, 3.00e+00, 1.45e+03, 2.00e+00],\n",
       "       [1.00e+00, 0.00e+00, 8.00e+02, 1.00e+00],\n",
       "       [1.00e+00, 5.00e+00, 1.50e+03, 3.00e+00],\n",
       "       [1.00e+00, 1.00e+01, 2.00e+03, 3.00e+00],\n",
       "       [1.00e+00, 1.00e+00, 4.50e+02, 1.00e+00],\n",
       "       [1.00e+00, 2.00e+00, 1.00e+03, 2.00e+00]])"
      ]
     },
     "execution_count": 7,
     "metadata": {},
     "output_type": "execute_result"
    }
   ],
   "source": [
    "X_norm = X.copy()\n",
    "X_norm = X_norm.astype(np.float64)\n",
    "X_norm"
   ]
  },
  {
   "cell_type": "code",
   "execution_count": 8,
   "id": "31c00837",
   "metadata": {},
   "outputs": [
    {
     "data": {
      "text/plain": [
       "array([[1.        , 0.1       , 0.03225806, 0.        ],\n",
       "       [1.        , 0.1       , 0.16129032, 0.        ],\n",
       "       [1.        , 0.2       , 0.19354839, 0.5       ],\n",
       "       [1.        , 0.5       , 0.09677419, 0.        ],\n",
       "       [1.        , 0.3       , 0.64516129, 0.5       ],\n",
       "       [1.        , 0.        , 0.22580645, 0.        ],\n",
       "       [1.        , 0.5       , 0.67741935, 1.        ],\n",
       "       [1.        , 1.        , 1.        , 1.        ],\n",
       "       [1.        , 0.1       , 0.        , 0.        ],\n",
       "       [1.        , 0.2       , 0.35483871, 0.5       ]])"
      ]
     },
     "execution_count": 8,
     "metadata": {},
     "output_type": "execute_result"
    }
   ],
   "source": [
    "X_norm[:, 1] = min_max_scale(X_norm[:, 1])\n",
    "X_norm[:, 2] = min_max_scale(X_norm[:, 2])\n",
    "X_norm[:, 3] = min_max_scale(X_norm[:, 3])\n",
    "X_norm"
   ]
  },
  {
   "cell_type": "code",
   "execution_count": 9,
   "id": "54d0c851",
   "metadata": {},
   "outputs": [],
   "source": [
    "X = X_norm"
   ]
  },
  {
   "cell_type": "markdown",
   "id": "7be1d392",
   "metadata": {},
   "source": [
    "Стандартизация"
   ]
  },
  {
   "cell_type": "code",
   "execution_count": 10,
   "id": "e1872b12",
   "metadata": {},
   "outputs": [
    {
     "name": "stdout",
     "output_type": "stream",
     "text": [
      "0.30000000000000004\n"
     ]
    },
    {
     "data": {
      "image/png": "[encoded data removed]",
      "text/plain": [
       "<Figure size 640x480 with 1 Axes>"
      ]
     },
     "metadata": {},
     "output_type": "display_data"
    }
   ],
   "source": [
    "print(np.mean(X[:, 1]))\n",
    "plt.hist(X[:, 1])\n",
    "plt.show()"
   ]
  },
  {
   "cell_type": "code",
   "execution_count": 11,
   "id": "ec51a406",
   "metadata": {},
   "outputs": [
    {
     "name": "stdout",
     "output_type": "stream",
     "text": [
      "0.33870967741935487\n"
     ]
    },
    {
     "data": {
      "image/png": "[encoded data removed]",
      "text/plain": [
       "<Figure size 640x480 with 1 Axes>"
      ]
     },
     "metadata": {},
     "output_type": "display_data"
    }
   ],
   "source": [
    "print(np.mean(X[:, 2]))\n",
    "plt.hist(X[:, 2])\n",
    "plt.show()"
   ]
  },
  {
   "cell_type": "code",
   "execution_count": 12,
   "id": "6611b764",
   "metadata": {},
   "outputs": [],
   "source": [
    "def standard_scale(X):\n",
    "    mean = X.mean()\n",
    "    std = X.std()\n",
    "    return (X - mean) / std"
   ]
  },
  {
   "cell_type": "code",
   "execution_count": 13,
   "id": "01a8545a",
   "metadata": {},
   "outputs": [
    {
     "data": {
      "text/plain": [
       "array([[ 1.00000000e+00, -7.07106781e-01, -9.79589689e-01,\n",
       "        -8.96258160e-01],\n",
       "       [ 1.00000000e+00, -7.07106781e-01, -5.67130873e-01,\n",
       "        -8.96258160e-01],\n",
       "       [ 1.00000000e+00, -3.53553391e-01, -4.64016169e-01,\n",
       "         3.84110640e-01],\n",
       "       [ 1.00000000e+00,  7.07106781e-01, -7.73360281e-01,\n",
       "        -8.96258160e-01],\n",
       "       [ 1.00000000e+00, -1.96261557e-16,  9.79589689e-01,\n",
       "         3.84110640e-01],\n",
       "       [ 1.00000000e+00, -1.06066017e+00, -3.60901465e-01,\n",
       "        -8.96258160e-01],\n",
       "       [ 1.00000000e+00,  7.07106781e-01,  1.08270439e+00,\n",
       "         1.66447944e+00],\n",
       "       [ 1.00000000e+00,  2.47487373e+00,  2.11385144e+00,\n",
       "         1.66447944e+00],\n",
       "       [ 1.00000000e+00, -7.07106781e-01, -1.08270439e+00,\n",
       "        -8.96258160e-01],\n",
       "       [ 1.00000000e+00, -3.53553391e-01,  5.15573521e-02,\n",
       "         3.84110640e-01]])"
      ]
     },
     "execution_count": 13,
     "metadata": {},
     "output_type": "execute_result"
    }
   ],
   "source": [
    "X_st = X.astype(np.float64)\n",
    "X_st[:, 1] = standard_scale(X_st[:, 1])\n",
    "X_st[:, 2] = standard_scale(X_st[:, 2])\n",
    "X_st[:, 3] = standard_scale(X_st[:, 3])\n",
    "\n",
    "X_st"
   ]
  },
  {
   "cell_type": "code",
   "execution_count": 14,
   "id": "2fd71e69",
   "metadata": {},
   "outputs": [
    {
     "name": "stdout",
     "output_type": "stream",
     "text": [
      "-1.4988010832439614e-16\n",
      "1.0\n"
     ]
    },
    {
     "data": {
      "image/png": "[encoded data removed]",
      "text/plain": [
       "<Figure size 640x480 with 1 Axes>"
      ]
     },
     "metadata": {},
     "output_type": "display_data"
    }
   ],
   "source": [
    "print(np.mean(X_st[:, 1]))\n",
    "print(np.std(X_st[:, 1]))\n",
    "\n",
    "plt.hist(X_st[:, 1])\n",
    "plt.show()"
   ]
  },
  {
   "cell_type": "code",
   "execution_count": 15,
   "id": "224ce894",
   "metadata": {},
   "outputs": [
    {
     "name": "stdout",
     "output_type": "stream",
     "text": [
      "-1.1310397063368783e-16\n",
      "0.9999999999999999\n"
     ]
    },
    {
     "data": {
      "image/png": "[encoded data removed]",
      "text/plain": [
       "<Figure size 640x480 with 1 Axes>"
      ]
     },
     "metadata": {},
     "output_type": "display_data"
    }
   ],
   "source": [
    "print(np.mean(X_st[:, 2]))\n",
    "print(np.std(X_st[:, 2]))\n",
    "\n",
    "plt.hist(X_st[:, 2])\n",
    "plt.show()"
   ]
  },
  {
   "cell_type": "markdown",
   "id": "a947ae0f",
   "metadata": {},
   "source": [
    "**Ответ:** Можно."
   ]
  },
  {
   "cell_type": "code",
   "execution_count": 16,
   "id": "35ec3b67",
   "metadata": {},
   "outputs": [],
   "source": [
    "def calc_mse(y, y_pred):\n",
    "    err = np.mean((y - y_pred)**2)\n",
    "    return err"
   ]
  },
  {
   "cell_type": "code",
   "execution_count": 17,
   "id": "4c3a7302",
   "metadata": {},
   "outputs": [
    {
     "data": {
      "text/plain": [
       "array([-0.51029036, -0.83057708, -2.19638042,  0.35889125])"
      ]
     },
     "execution_count": 17,
     "metadata": {},
     "output_type": "execute_result"
    }
   ],
   "source": [
    "W = np.random.randn(X.shape[1])\n",
    "W"
   ]
  },
  {
   "cell_type": "code",
   "execution_count": 18,
   "id": "e8044eaf",
   "metadata": {},
   "outputs": [],
   "source": [
    "# классический  GD\n",
    "def gradient_descent(X, y, iterations, eta=1e-4):\n",
    "    W = np.random.randn(X.shape[1])\n",
    "    n = X.shape[0]\n",
    "    \n",
    "    for i in range(0, iterations):\n",
    "        y_pred = np.dot(X, W)\n",
    "        err = calc_mse(y, y_pred)\n",
    "        dQ = 2/n * X.T @ (y_pred - y) # градиент функции ошибки\n",
    "        W -= (eta * dQ)\n",
    "        if i % (iterations / 10) == 0:\n",
    "            print(f'Iter: {i}, weights: {W}, error {err}')\n",
    "    print(f'Final MSE: {calc_mse(y, np.dot(X, W))}')\n",
    "    return W"
   ]
  },
  {
   "cell_type": "code",
   "execution_count": 19,
   "id": "2bcc7104",
   "metadata": {},
   "outputs": [
    {
     "name": "stdout",
     "output_type": "stream",
     "text": [
      "Iter: 0, weights: [-0.2018625   2.81743718  2.50310316  0.10928857], error 3423.421378354435\n",
      "Iter: 500, weights: [56.49767386  5.90722338  1.50803902  5.04180729], error 25.51682776923616\n",
      "Iter: 1000, weights: [56.4999999   6.1637984   0.31369261  6.01886719], error 24.98392855766934\n",
      "Iter: 1500, weights: [56.5         6.25311888 -0.11525004  6.37246615], error 24.91489405877729\n",
      "Iter: 2000, weights: [56.5         6.28511392 -0.2695956   6.49983907], error 24.905950108131716\n",
      "Iter: 2500, weights: [56.5         6.29662232 -0.32514848  6.54569089], error 24.90479134846628\n",
      "Iter: 3000, weights: [56.5         6.30076427 -0.34514415  6.56219513], error 24.90464122196594\n",
      "Iter: 3500, weights: [56.5         6.30225511 -0.35234142  6.5681357 ], error 24.904621771887754\n",
      "Iter: 4000, weights: [56.5         6.30279172 -0.35493201  6.57027396], error 24.904619251975905\n",
      "Iter: 4500, weights: [56.5         6.30298487 -0.35586447  6.57104361], error 24.90461892550136\n",
      "Final MSE: 24.904618883203998\n"
     ]
    },
    {
     "data": {
      "text/plain": [
       "array([56.5       ,  6.30305432, -0.35619972,  6.57132032])"
      ]
     },
     "execution_count": 19,
     "metadata": {},
     "output_type": "execute_result"
    }
   ],
   "source": [
    "gradient_descent(X_st, y, iterations=5000, eta=1e-2)"
   ]
  },
  {
   "cell_type": "code",
   "execution_count": 20,
   "id": "7ef335ea",
   "metadata": {},
   "outputs": [],
   "source": [
    "# стохастический градиентный спуск\n",
    "def stohastic_gradient_descent(X, y, iterations, batch_size, eta=1e-4):\n",
    "    W = np.random.randn(X.shape[1])\n",
    "    n = X.shape[0]\n",
    "    \n",
    "    n_batch = n // batch_size    \n",
    "    if n % batch_size != 0:\n",
    "        n_batch += 1\n",
    "    print(f'amount of batches is {n_batch}')\n",
    "        \n",
    "    for i in range(0, iterations):\n",
    "        \n",
    "        for b in range(n_batch):\n",
    "            inds = np.random.randint(n, size=batch_size)\n",
    "\n",
    "            X_tmp = X[inds, ]\n",
    "            y_tmp = np.array(y)[inds]\n",
    "\n",
    "            \n",
    "            y_pred_tmp = np.dot(X_tmp, W)\n",
    "            dQ = 2/len(y_tmp) * X_tmp.T @ (y_pred_tmp - y_tmp) # градиент функции ошибки\n",
    "            W -= (eta * dQ)\n",
    "            \n",
    "            err = calc_mse(y, np.dot(X, W))\n",
    "        \n",
    "        if i % (iterations / 10) == 0:\n",
    "            print(f'Iter: {i}, weights: {W}, error {err}')\n",
    "    \n",
    "    print(f'Final MSE: {calc_mse(y, np.dot(X, W))}')\n",
    "    return W"
   ]
  },
  {
   "cell_type": "code",
   "execution_count": 21,
   "id": "a5ddb1a9",
   "metadata": {},
   "outputs": [
    {
     "name": "stdout",
     "output_type": "stream",
     "text": [
      "amount of batches is 3\n",
      "Iter: 0, weights: [ 3.68225698  1.28814741  1.66058151 -0.16754302], error 2898.1236952777604\n",
      "Iter: 500, weights: [56.46382124  6.45358393  0.10849561  6.30995788], error 25.049058117900735\n",
      "Iter: 1000, weights: [ 5.63194010e+01  6.35687922e+00 -5.08080178e-02  6.89216678e+00], error 25.361764166825406\n",
      "Iter: 1500, weights: [56.72751421  6.17093695 -0.27467498  6.45845894], error 24.98154399572263\n",
      "Iter: 2000, weights: [56.06660221  6.47156373  0.08007311  6.7501848 ], error 25.641173087583475\n",
      "Iter: 2500, weights: [56.26357202  6.54183295  0.06759035  6.43603418], error 25.225102901543785\n",
      "Iter: 3000, weights: [56.33671352  6.40492758  0.11685355  6.58581818], error 25.255575768393577\n",
      "Iter: 3500, weights: [56.5755384   6.32759464 -0.24397807  6.40227562], error 24.916602658821525\n",
      "Iter: 4000, weights: [57.04892148  6.0865295  -0.3410683   6.48517603], error 25.280031518298284\n",
      "Iter: 4500, weights: [56.22602815  6.63903591 -0.53816519  6.75023464], error 25.090879377711094\n",
      "Final MSE: 24.93344535261976\n"
     ]
    },
    {
     "data": {
      "text/plain": [
       "array([56.50193876,  6.31178383, -0.57663942,  6.62242257])"
      ]
     },
     "execution_count": 21,
     "metadata": {},
     "output_type": "execute_result"
    }
   ],
   "source": [
    "stohastic_gradient_descent(X_st, y, iterations=5000, batch_size=4, eta=1e-2)"
   ]
  },
  {
   "cell_type": "markdown",
   "id": "3819754c",
   "metadata": {},
   "source": [
    "#### L2 регуляризация"
   ]
  },
  {
   "cell_type": "code",
   "execution_count": 22,
   "id": "15109c87",
   "metadata": {},
   "outputs": [],
   "source": [
    "def gradient_descent_reg_l2(X, y, iterations, eta=1e-4, reg=1e-8):\n",
    "    W = np.random.randn(X.shape[1])\n",
    "    n = X.shape[0]\n",
    "    \n",
    "    \n",
    "    for i in range(0, iterations):\n",
    "        y_pred = np.dot(X, W)\n",
    "        err = calc_mse(y, y_pred)\n",
    "        \n",
    "        dQ = 2/n * X.T @ (y_pred - y) # градиент функции ошибки\n",
    "        dReg = reg * W # градиент регуляризации\n",
    "        \n",
    "        W -= eta * (dQ + dReg)\n",
    "        \n",
    "        \n",
    "        if i % (iterations / 10) == 0:\n",
    "            print(f'Iter: {i}, weights: {W}, error {err}')\n",
    "    \n",
    "    print(f'Final MSE: {calc_mse(y, np.dot(X, W))}')\n",
    "    return W"
   ]
  },
  {
   "cell_type": "code",
   "execution_count": 23,
   "id": "300ea881",
   "metadata": {},
   "outputs": [
    {
     "name": "stdout",
     "output_type": "stream",
     "text": [
      "Iter: 0, weights: [11.45869889  2.38004715  1.30804205  2.96725143], error 3319.4063961853294\n",
      "Iter: 500, weights: [56.49717514  6.30232427 -0.35427353  6.56981118], error 24.904627724126065\n",
      "Iter: 1000, weights: [56.49717514  6.30234588 -0.35437787  6.5698973 ], error 24.904627646691324\n",
      "Iter: 1500, weights: [56.49717514  6.30234588 -0.35437787  6.5698973 ], error 24.904627646688823\n",
      "Iter: 2000, weights: [56.49717514  6.30234588 -0.35437787  6.5698973 ], error 24.904627646688827\n",
      "Iter: 2500, weights: [56.49717514  6.30234588 -0.35437787  6.5698973 ], error 24.904627646688823\n",
      "Iter: 3000, weights: [56.49717514  6.30234588 -0.35437787  6.5698973 ], error 24.904627646688827\n",
      "Iter: 3500, weights: [56.49717514  6.30234588 -0.35437787  6.5698973 ], error 24.904627646688827\n",
      "Iter: 4000, weights: [56.49717514  6.30234588 -0.35437787  6.5698973 ], error 24.904627646688823\n",
      "Iter: 4500, weights: [56.49717514  6.30234588 -0.35437787  6.5698973 ], error 24.904627646688827\n",
      "Final MSE: 24.904627646688827\n"
     ]
    },
    {
     "data": {
      "text/plain": [
       "array([56.49717514,  6.30234588, -0.35437787,  6.5698973 ])"
      ]
     },
     "execution_count": 23,
     "metadata": {},
     "output_type": "execute_result"
    }
   ],
   "source": [
    "gradient_descent_reg_l2(X_st, y, iterations=5000, eta=1e-1, reg=1e-4)"
   ]
  },
  {
   "cell_type": "code",
   "execution_count": 24,
   "id": "f0da7cfa",
   "metadata": {},
   "outputs": [
    {
     "name": "stdout",
     "output_type": "stream",
     "text": [
      "Iter: 0, weights: [11.1459568   0.62156102  2.42487438  2.58425736], error 3410.3489975452676\n",
      "Iter: 500, weights: [56.5         6.30306459 -0.35624932  6.57136126], error 24.904618880479337\n",
      "Iter: 1000, weights: [56.5         6.30309349 -0.35638884  6.57147642], error 24.904618876908383\n",
      "Iter: 1500, weights: [56.5         6.30309349 -0.35638885  6.57147643], error 24.904618876908366\n",
      "Iter: 2000, weights: [56.5         6.30309349 -0.35638885  6.57147643], error 24.904618876908387\n",
      "Iter: 2500, weights: [56.5         6.30309349 -0.35638885  6.57147643], error 24.904618876908383\n",
      "Iter: 3000, weights: [56.5         6.30309349 -0.35638885  6.57147643], error 24.904618876908387\n",
      "Iter: 3500, weights: [56.5         6.30309349 -0.35638885  6.57147643], error 24.904618876908387\n",
      "Iter: 4000, weights: [56.5         6.30309349 -0.35638885  6.57147643], error 24.904618876908383\n",
      "Iter: 4500, weights: [56.5         6.30309349 -0.35638885  6.57147643], error 24.904618876908387\n",
      "Final MSE: 24.904618876908387\n"
     ]
    },
    {
     "data": {
      "text/plain": [
       "array([56.5       ,  6.30309349, -0.35638885,  6.57147643])"
      ]
     },
     "execution_count": 24,
     "metadata": {},
     "output_type": "execute_result"
    }
   ],
   "source": [
    "gradient_descent(X_st, y, iterations=5000, eta=1e-1)"
   ]
  },
  {
   "cell_type": "markdown",
   "id": "95aa76e3",
   "metadata": {},
   "source": [
    "***1. Постройте график зависимости весов всех признаков от lambda в L2-регуляризации на основе данных из урока.***"
   ]
  },
  {
   "cell_type": "code",
   "execution_count": 25,
   "id": "b53dd984",
   "metadata": {},
   "outputs": [
    {
     "data": {
      "image/png": "[encoded data removed]",
      "text/plain": [
       "<Figure size 640x480 with 1 Axes>"
      ]
     },
     "metadata": {},
     "output_type": "display_data"
    }
   ],
   "source": [
    "from sklearn.linear_model import Ridge\n",
    "\n",
    "n = 50\n",
    "\n",
    "train_amount = 5\n",
    "train_X = X[:train_amount]\n",
    "train_y = y[:train_amount]\n",
    "test_X = X[train_amount:]\n",
    "test_y = y[train_amount:]\n",
    "\n",
    "mse_train = []\n",
    "mse_test = []\n",
    "\n",
    "\n",
    "coeffs = np.zeros((n, train_X.shape[1]))\n",
    "alpha_list = np.logspace(-3, 2, n)\n",
    "\n",
    "for i, val in enumerate(alpha_list):\n",
    "    ridge = Ridge(alpha=val, fit_intercept=False)\n",
    "    ridge.fit(train_X, train_y)\n",
    "    \n",
    "    coeffs[i, :] = ridge.coef_.flatten()\n",
    "    \n",
    "    coef = coeffs[i]\n",
    "    y_pred_tr = np.dot(train_X, coef)\n",
    "    mse_train.append(np.mean((y_pred_tr - train_y)**2))\n",
    "    y_pred_ts = np.dot(test_X, coef)\n",
    "    mse_test.append(np.mean((y_pred_ts - test_y)**2))\n",
    "\n",
    "\n",
    "for i in range(train_X.shape[1]):\n",
    "    plt.plot(alpha_list, coeffs[:, i])\n",
    "\n",
    "plt.title('Убывание абсолютных значений весов признаков\\n при увеличении коэффициента регуляризации alpha (Ridge)')\n",
    "plt.xticks(np.arange(0, 101, 10))\n",
    "plt.xlabel('alpha')\n",
    "plt.ylabel('Вес признака');"
   ]
  },
  {
   "cell_type": "markdown",
   "id": "267d2739",
   "metadata": {},
   "source": [
    "***3. Напишите функцию наподобие eval_model_reg2, но для применения L1-регуляризации.***"
   ]
  },
  {
   "cell_type": "code",
   "execution_count": 31,
   "id": "e1f23f79",
   "metadata": {},
   "outputs": [],
   "source": [
    "def gradient_descent_reg_l1(X, y, iterations, eta=1e-4, reg=1e-8):\n",
    "    W = np.random.randn(X.shape[1])\n",
    "    n = X.shape[0]\n",
    "    \n",
    "    for i in range(0, iterations):\n",
    "        y_pred = np.dot(X, W)\n",
    "        err = calc_mse(y, y_pred)\n",
    "        \n",
    "        dQ = 2/n * X.T @ (y_pred - y) # градиент функции ошибки\n",
    "        dReg = reg * np.sign(W) # градиент регуляризации\n",
    "        \n",
    "        W -= eta * (dQ + dReg)\n",
    "        \n",
    "        if i % (iterations / 10) == 0:\n",
    "            print(f'Iter: {i}, weights: {W}, error {err}')\n",
    "    \n",
    "    print(f'Final MSE: {calc_mse(y, np.dot(X, W))}')\n",
    "    return W"
   ]
  },
  {
   "cell_type": "code",
   "execution_count": 32,
   "id": "b71cf5b9",
   "metadata": {},
   "outputs": [
    {
     "name": "stdout",
     "output_type": "stream",
     "text": [
      "Iter: 0, weights: [ 1.92566461  0.079823   -1.0093585  -0.95797933], error 3324.7627139720885\n",
      "Iter: 500, weights: [56.49276135  5.96109647  1.08620429  5.41619181], error 25.26735139827293\n",
      "Iter: 1000, weights: [56.49499991  6.19162624  0.15812144  6.14574527], error 24.951656557730963\n",
      "Iter: 1500, weights: [56.495       6.2515369  -0.14137332  6.39890367], error 24.91271429706724\n",
      "Iter: 2000, weights: [56.495       6.27130039 -0.24079638  6.48175851], error 24.90695691072548\n",
      "Iter: 2500, weights: [56.495       6.27868852 -0.27666907  6.51140811], error 24.905742744184504\n",
      "Iter: 3000, weights: [56.495       6.28136185 -0.28958556  6.52207136], error 24.905417025994684\n",
      "Iter: 3500, weights: [56.495       6.28232481 -0.29423496  6.52590906], error 24.905314215190337\n",
      "Iter: 4000, weights: [56.495       6.28267146 -0.29590849  6.52729038], error 24.905279079049258\n",
      "Iter: 4500, weights: [56.495       6.28279623 -0.29651086  6.52778757], error 24.905266674351264\n",
      "Final MSE: 24.905262240772533\n"
     ]
    },
    {
     "data": {
      "text/plain": [
       "array([56.495     ,  6.28284109, -0.29672743,  6.52796633])"
      ]
     },
     "execution_count": 32,
     "metadata": {},
     "output_type": "execute_result"
    }
   ],
   "source": [
    "gradient_descent_reg_l1(X_st, y, iterations=5000, eta=1e-2, reg=1e-2)"
   ]
  },
  {
   "cell_type": "code",
   "execution_count": null,
   "id": "ad35043a",
   "metadata": {},
   "outputs": [],
   "source": []
  }
 ],
 "metadata": {
  "kernelspec": {
   "display_name": "Python 3 (ipykernel)",
   "language": "python",
   "name": "python3"
  },
  "language_info": {
   "codemirror_mode": {
    "name": "ipython",
    "version": 3
   },
   "file_extension": ".py",
   "mimetype": "text/x-python",
   "name": "python",
   "nbconvert_exporter": "python",
   "pygments_lexer": "ipython3",
   "version": "3.9.13"
  }
 },
 "nbformat": 4,
 "nbformat_minor": 5
}
