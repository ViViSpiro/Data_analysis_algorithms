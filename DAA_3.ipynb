{
 "cells": [
  {
   "cell_type": "code",
   "execution_count": 1,
   "id": "7d2f701d",
   "metadata": {},
   "outputs": [],
   "source": [
    "import numpy as np\n",
    "import matplotlib.pyplot as plt\n",
    "import warnings\n",
    "warnings.filterwarnings('ignore')"
   ]
  },
  {
   "cell_type": "code",
   "execution_count": 2,
   "id": "9ae6d18e",
   "metadata": {},
   "outputs": [],
   "source": [
    "X = np.array([ [   1,    1,  500,    1],\n",
    "               [   1,    1,  700,    1],\n",
    "               [   1,    2,  750,    2],\n",
    "               [   1,    5,  600,    1],\n",
    "               [   1,    3, 1450,    2],\n",
    "               [   1,    0,  800,    1],\n",
    "               [   1,    5, 1500,    3],\n",
    "               [   1,   10, 2000,    3],\n",
    "               [   1,    1,  450,    1],\n",
    "               [   1,    2, 1000,    2]], dtype=np.float64)\n",
    "\n",
    "y = np.array([0, 0, 1, 0, 1, 0, 1, 0, 1, 1], dtype=np.float64)"
   ]
  },
  {
   "cell_type": "code",
   "execution_count": 3,
   "id": "8f2b6734",
   "metadata": {},
   "outputs": [
    {
     "data": {
      "text/plain": [
       "array([[1.00e+00, 1.00e+00, 5.00e+02, 1.00e+00],\n",
       "       [1.00e+00, 1.00e+00, 7.00e+02, 1.00e+00],\n",
       "       [1.00e+00, 2.00e+00, 7.50e+02, 2.00e+00],\n",
       "       [1.00e+00, 5.00e+00, 6.00e+02, 1.00e+00],\n",
       "       [1.00e+00, 3.00e+00, 1.45e+03, 2.00e+00],\n",
       "       [1.00e+00, 0.00e+00, 8.00e+02, 1.00e+00],\n",
       "       [1.00e+00, 5.00e+00, 1.50e+03, 3.00e+00],\n",
       "       [1.00e+00, 1.00e+01, 2.00e+03, 3.00e+00],\n",
       "       [1.00e+00, 1.00e+00, 4.50e+02, 1.00e+00],\n",
       "       [1.00e+00, 2.00e+00, 1.00e+03, 2.00e+00]])"
      ]
     },
     "execution_count": 3,
     "metadata": {},
     "output_type": "execute_result"
    }
   ],
   "source": [
    "X"
   ]
  },
  {
   "cell_type": "code",
   "execution_count": 4,
   "id": "a266ae1c",
   "metadata": {},
   "outputs": [
    {
     "data": {
      "text/plain": [
       "array([0., 0., 1., 0., 1., 0., 1., 0., 1., 1.])"
      ]
     },
     "execution_count": 4,
     "metadata": {},
     "output_type": "execute_result"
    }
   ],
   "source": [
    "y"
   ]
  },
  {
   "cell_type": "code",
   "execution_count": 5,
   "id": "09ad4aa2",
   "metadata": {},
   "outputs": [],
   "source": [
    "def standard_scale(x):\n",
    "    res = (x - x.mean()) / x.std()\n",
    "    return res"
   ]
  },
  {
   "cell_type": "code",
   "execution_count": 6,
   "id": "90d7b44b",
   "metadata": {},
   "outputs": [],
   "source": [
    "X_st = X.copy()\n",
    "X_st[:, 2] = standard_scale(X[:, 2])"
   ]
  },
  {
   "cell_type": "code",
   "execution_count": 7,
   "id": "43daed91",
   "metadata": {},
   "outputs": [
    {
     "data": {
      "text/plain": [
       "array([[ 1.        ,  1.        , -0.97958969,  1.        ],\n",
       "       [ 1.        ,  1.        , -0.56713087,  1.        ],\n",
       "       [ 1.        ,  2.        , -0.46401617,  2.        ],\n",
       "       [ 1.        ,  5.        , -0.77336028,  1.        ],\n",
       "       [ 1.        ,  3.        ,  0.97958969,  2.        ],\n",
       "       [ 1.        ,  0.        , -0.36090146,  1.        ],\n",
       "       [ 1.        ,  5.        ,  1.08270439,  3.        ],\n",
       "       [ 1.        , 10.        ,  2.11385144,  3.        ],\n",
       "       [ 1.        ,  1.        , -1.08270439,  1.        ],\n",
       "       [ 1.        ,  2.        ,  0.05155735,  2.        ]])"
      ]
     },
     "execution_count": 7,
     "metadata": {},
     "output_type": "execute_result"
    }
   ],
   "source": [
    "X_st"
   ]
  },
  {
   "cell_type": "markdown",
   "id": "61db6ea7",
   "metadata": {},
   "source": [
    "***1. *Измените функцию calc_logloss так, чтобы нули по возможности не попадали в np.log.***"
   ]
  },
  {
   "cell_type": "code",
   "execution_count": 8,
   "id": "f4852224",
   "metadata": {},
   "outputs": [],
   "source": [
    "def calc_logloss(y, y_pred):\n",
    "    eps = 1e-9\n",
    "    y_pred = np.clip(y_pred, eps, 1 - eps)\n",
    "    err = - np.mean(y * np.log(y_pred) + (1.0 - y) * np.log(1.0 - y_pred))\n",
    "    return err"
   ]
  },
  {
   "cell_type": "code",
   "execution_count": 9,
   "id": "9c104a0b",
   "metadata": {},
   "outputs": [
    {
     "data": {
      "text/plain": [
       "9.999999722180686e-10"
      ]
     },
     "execution_count": 9,
     "metadata": {},
     "output_type": "execute_result"
    }
   ],
   "source": [
    "y1 = np.array([1, 0])\n",
    "y_pred1 = np.array([1, 0])\n",
    "calc_logloss(y1, y_pred1)"
   ]
  },
  {
   "cell_type": "code",
   "execution_count": 10,
   "id": "bdc48111",
   "metadata": {},
   "outputs": [
    {
     "data": {
      "text/plain": [
       "20.723265851087376"
      ]
     },
     "execution_count": 10,
     "metadata": {},
     "output_type": "execute_result"
    }
   ],
   "source": [
    "y1 = np.array([1, 0])\n",
    "y_pred1 = np.array([0, 1])\n",
    "calc_logloss(y1, y_pred1)"
   ]
  },
  {
   "cell_type": "markdown",
   "id": "f44e65fa",
   "metadata": {},
   "source": [
    "***2. Подберите аргументы функции eval_model для логистической регрессии таким образом, чтобы log loss был минимальным.***"
   ]
  },
  {
   "cell_type": "code",
   "execution_count": 11,
   "id": "28ea6b7f",
   "metadata": {},
   "outputs": [],
   "source": [
    "def sigmoid(z):\n",
    "    res = 1 / (1 + np.exp(-z))\n",
    "    return res"
   ]
  },
  {
   "cell_type": "code",
   "execution_count": 12,
   "id": "6773cc52",
   "metadata": {},
   "outputs": [],
   "source": [
    "z = np.linspace(-10, 10, 101)"
   ]
  },
  {
   "cell_type": "code",
   "execution_count": 13,
   "id": "91faba80",
   "metadata": {},
   "outputs": [],
   "source": [
    "probabilities = sigmoid(z)"
   ]
  },
  {
   "cell_type": "code",
   "execution_count": 14,
   "id": "dde81960",
   "metadata": {},
   "outputs": [
    {
     "data": {
      "image/png": "[encoded data removed]",
      "text/plain": [
       "<Figure size 640x480 with 1 Axes>"
      ]
     },
     "metadata": {},
     "output_type": "display_data"
    }
   ],
   "source": [
    "plt.plot(z, probabilities)\n",
    "plt.show()"
   ]
  },
  {
   "cell_type": "code",
   "execution_count": 15,
   "id": "9aa43028",
   "metadata": {},
   "outputs": [],
   "source": [
    "def eval_model(X, y, iterations, eta=1e-4):\n",
    "    np.random.seed(42)\n",
    "    W = np.random.randn(X.shape[1])\n",
    "    n = X.shape[0]\n",
    "    \n",
    "    for i in range(iterations):\n",
    "        z = np.dot(X, W)\n",
    "        y_pred = sigmoid(z)\n",
    "        err = calc_logloss(y, y_pred)\n",
    "        \n",
    "        dQ = 1/n * X.T @ (y_pred - y)\n",
    "        W -= eta * dQ\n",
    "        if i % (iterations / 10) == 0:\n",
    "            print(i, W, err)\n",
    "            \n",
    "    final_error = calc_logloss(y, y_pred)\n",
    "    return W, final_error        "
   ]
  },
  {
   "cell_type": "code",
   "execution_count": 16,
   "id": "883c9800",
   "metadata": {},
   "outputs": [
    {
     "name": "stdout",
     "output_type": "stream",
     "text": [
      "0 [ 0.49667621 -0.13840939  0.6476858   1.52297324] 1.1785958344356262\n",
      "50 [ 0.494784   -0.14564801  0.6475462   1.52014828] 1.1657985749255426\n",
      "100 [ 0.49290109 -0.15285535  0.64740132  1.51733474] 1.1531112685708473\n",
      "150 [ 0.49102761 -0.16003088  0.64725118  1.51453281] 1.1405352753305018\n",
      "200 [ 0.48916364 -0.16717404  0.64709581  1.51174267] 1.1280719326917483\n",
      "250 [ 0.48730929 -0.17428428  0.64693524  1.50896452] 1.1157225565960736\n",
      "300 [ 0.48546465 -0.18136107  0.64676951  1.50619853] 1.103488442622439\n",
      "350 [ 0.48362982 -0.18840385  0.64659868  1.5034449 ] 1.0913708674192037\n",
      "400 [ 0.48180488 -0.19541206  0.64642281  1.50070383] 1.0793710903721336\n",
      "450 [ 0.47998993 -0.20238516  0.64624195  1.49797551] 1.0674903554915993\n"
     ]
    }
   ],
   "source": [
    "W = eval_model(X_st, y, iterations=500, eta=1e-4)"
   ]
  },
  {
   "cell_type": "code",
   "execution_count": 17,
   "id": "ee9daed4",
   "metadata": {},
   "outputs": [],
   "source": [
    "from tqdm import tqdm"
   ]
  },
  {
   "cell_type": "code",
   "execution_count": 18,
   "id": "3550fa0d",
   "metadata": {},
   "outputs": [
    {
     "data": {
      "text/plain": [
       "(array([  100,   464,  2154, 10000]),\n",
       " array([1.00000000e-04, 5.55644444e-01, 1.11118889e+00, 1.66673333e+00,\n",
       "        2.22227778e+00, 2.77782222e+00, 3.33336667e+00, 3.88891111e+00,\n",
       "        4.44445556e+00, 5.00000000e+00]))"
      ]
     },
     "execution_count": 18,
     "metadata": {},
     "output_type": "execute_result"
    }
   ],
   "source": [
    "np.logspace(2, 4, 4, dtype=np.int), np.linspace(1e-4, 5, 10)"
   ]
  },
  {
   "cell_type": "code",
   "execution_count": 19,
   "id": "22e38447",
   "metadata": {},
   "outputs": [
    {
     "name": "stderr",
     "output_type": "stream",
     "text": [
      "\r",
      "  0%|          | 0/4 [00:00<?, ?it/s]"
     ]
    },
    {
     "name": "stdout",
     "output_type": "stream",
     "text": [
      "0 [ 0.49667621 -0.13840939  0.6476858   1.52297324] 1.1785958344356262\n",
      "10 [ 0.49629703 -0.13985959  0.6476583   1.52240734] 1.1760276523325583\n",
      "20 [ 0.49591822 -0.14130855  0.64763059  1.5218419 ] 1.1734638242468702\n",
      "30 [ 0.49553977 -0.14275628  0.64760267  1.5212769 ] 1.1709043612804575\n",
      "40 [ 0.4951617  -0.14420277  0.64757454  1.52071236] 1.1683492744976867\n",
      "50 [ 0.494784   -0.14564801  0.6475462   1.52014828] 1.1657985749255426\n",
      "60 [ 0.49440667 -0.14709199  0.64751765  1.51958465] 1.1632522735537618\n",
      "70 [ 0.49402971 -0.14853473  0.64748888  1.51902148] 1.1607103813349897\n",
      "80 [ 0.49365313 -0.1499762   0.6474599   1.51845877] 1.1581729091849757\n",
      "90 [ 0.49327692 -0.15141641  0.64743072  1.51789652] 1.1556398679827482\n",
      "0 [ 0.28590994 -0.94443548  0.63247476  1.20845383] 1.1785958344356262\n",
      "10 [-0.01778729 -0.74259697  0.92060247  1.37876729] 0.4871224166857678\n",
      "20 [-0.23016163 -0.77815411  0.9909963   1.53349338] 0.4728751686600379\n",
      "30 [-0.40976737 -0.81459305  1.00520837  1.69017185] 0.4622099011099753\n",
      "40 [-0.57935851 -0.84386326  0.99645919  1.83378698] 0.4530581261692926\n",
      "50 [-0.74343937 -0.86651644  0.97453382  1.96461213] 0.44488839065533786\n",
      "60 [-0.90304213 -0.8839841   0.94380124  2.08490659] 0.4374264187971685\n",
      "70 [-1.05850688 -0.8974941   0.90689663  2.19671009] 0.4305109487861795\n",
      "80 [-1.21002037 -0.90799001  0.8656453   2.3016154 ] 0.4240412304887111\n",
      "90 [-1.35772742 -0.91618727  0.82138327  2.4008435 ] 0.4179508492505991\n",
      "0 [ 0.07514367 -1.75046158  0.61726372  0.89393441] 1.1785958344356262\n",
      "10 [-0.1352539  -1.92322776  1.08193439  2.09378256] 0.7327218370253622\n",
      "20 [-0.57830608 -1.38952511  1.44541458  2.64522774] 0.4770337813776065\n",
      "30 [-1.04550859 -1.20500129  1.34254141  2.5770667 ] 0.43670311799743755\n",
      "40 [-1.37711388 -1.69844683  1.03515056  2.62498233] 0.5259551815951573\n",
      "50 [-1.5650341  -1.38177115  1.11410929  3.32183952] 0.4327200997857492\n",
      "60 [-1.99560567 -1.17591412  1.0080112   3.20829398] 0.3987182334587136\n",
      "70 [-2.27282828 -1.10396854  0.78609966  3.24150383] 0.3865074808839658\n",
      "80 [-2.52678382 -1.07210846  0.59374295  3.30520365] 0.377033549908003\n",
      "90 [-2.77835952 -1.18935882  0.41212094  3.35863963] 0.3802805449371832\n",
      "0 [-0.13562261 -2.55648768  0.60205268  0.579415  ] 1.1785958344356262\n",
      "10 [-0.23127445 -3.04591828  1.27286795  2.85346888] 1.2292710072303672\n",
      "20 [-0.83702304 -3.23478284  1.87078976  4.07522001] 0.8976012878426444\n",
      "30 [-1.62253125 -1.87251178  2.09953864  4.22753894] 0.479774138805295\n",
      "40 [-2.20072414 -1.50381439  1.54089004  3.88032077] 0.41911099529750634\n",
      "50 [-2.61114866 -1.29130712  0.99263118  3.76096622] 0.38592695187261017\n",
      "60 [-2.98820249 -1.2092933   0.5793925   3.72726154] 0.366804575319563\n",
      "70 [-3.28795463 -2.87788399  0.49842363  4.54173758] 1.128127619302643\n",
      "80 [-3.62702274 -2.649366    0.94256206  5.79123759] 0.5886904718769688\n",
      "90 [-4.28971567 -1.65436506  0.80510159  5.44258353] 0.3667200807966634\n",
      "0 [-0.34638888 -3.36251377  0.58684164  0.26489558] 1.1785958344356262\n",
      "10 [-0.33406459 -3.99222791  1.46776573  3.56549737] 1.7950265399484473\n",
      "20 [-1.14107248 -4.61001051  2.31599324  5.32689082] 1.3719624757939801\n",
      "30 [-2.04981177 -3.08436864  2.97340859  6.35046437] 0.6326869694072561\n",
      "40 [-3.02634938 -2.11619816  2.22063909  5.49452793] 0.47695415280642023\n",
      "50 [-3.6120949  -1.65593104  1.22354027  4.99799437] 0.392044985732929\n",
      "60 [-4.0737932  -1.34826707  0.46685429  4.75223541] 0.34664995015280853\n",
      "70 [-4.32873558 -0.84370432  0.00846897  4.94434882] 0.37724911415440554\n",
      "80 [-4.14806263 -1.55830941  0.5591483   7.9061068 ] 1.4758323343696413\n",
      "90 [-4.95681353 -2.42179176  1.18301757  9.00432146] 0.9826413361694956\n",
      "0 [-0.55715516 -4.16853987  0.5716306  -0.04962383] 1.1785958344356262\n",
      "10 [-0.45835116 -4.93210877  1.6608597   4.20959487] 2.3123714854296233\n",
      "20 [-1.4642254  -5.68509504  2.8102875   6.52234359] 1.895972024407952\n",
      "30 [-2.37158916 -4.90289793  3.77873631  8.60703913] 1.0985854020274664\n",
      "40 [-3.60661737 -3.15340566  2.83777942  7.54342634] 0.609818898911996\n",
      "50 [-4.60954077 -2.14950955  1.64929161  6.53318215] 0.4366781387193711\n",
      "60 [-5.21759439 -1.62463948  0.44947324  5.95170038] 0.3435455421835138\n",
      "70 [-5.69570515 -1.38580837 -0.31922557  5.66910451] 0.30597721474047235\n",
      "80 [-6.14693034 -4.68176477  0.15652416  7.68009552] 2.085839300394901\n",
      "90 [-6.94224193 -5.70348233  0.95153492  9.60310725] 1.171854030156436\n",
      "0 [-0.76792143 -4.97456596  0.55641956 -0.36414324] 1.1785958344356262\n",
      "10 [-0.60631501 -5.88759106  1.86373405  4.80469161] 2.791623317548127\n",
      "20 [-1.76361232 -6.70390901  3.28547948  7.72053549] 2.4181901876816663\n",
      "30 [-2.9703009  -7.47875668  4.24630295  9.98266883] 1.5697661305724784\n",
      "40 [-4.14911176 -4.39742206  3.54135649  9.73077661] 0.7793212503405855\n",
      "50 [-5.53095948 -2.75157748  2.192203    8.3463834 ] 0.51907991111038\n",
      "60 [-6.38629827 -1.98431496  0.55829011  7.35762952] 0.3614063941047795\n",
      "70 [-6.96364514 -1.5200124  -0.56285199  6.8404764 ] 0.2917825946504581\n",
      "80 [-7.47504424 -5.58619677 -0.25195663  8.90945296] 2.2694037587241382\n",
      "90 [-8.52702249 -6.79080176  0.90948038 11.29742218] 1.5044364602943128\n",
      "0 [-0.97868771 -5.78059206  0.54120852 -0.67866266] 1.1785958344356262\n",
      "10 [-0.7704538  -6.87433834  2.07720287  5.37394808] 3.2635366445673184\n",
      "20 [-2.04277869 -7.71427463  3.73454433  8.92526418] 2.943716386936979\n",
      "30 [-3.5417199  -9.02284559  4.89588267 11.47184221] 1.9530568462473858\n",
      "40 [-4.91868699 -5.08213925  4.80741297 12.0471849 ] 0.9418188568979943\n",
      "50 [-6.51204123 -3.403745    2.9758339  10.33965997] 0.6304943029244812\n",
      "60 [-7.579808   -2.43389728  0.82923404  9.00528434] 0.40496471391447003\n",
      "70 [-8.30889818 -1.74381077 -0.74305745  8.18785427] 0.2870971821260264\n",
      "80 [-7.54526926 -1.31491742 -0.30107365 12.35413646] 4.381070135073282\n",
      "90 [-8.83561069 -3.14471125  1.24103221 15.24369049] 2.424713841182644\n",
      "0 [-1.18945398 -6.58661815  0.52599748 -0.99318207] 1.1785958344356262\n",
      "10 [-0.93971038 -7.87393363  2.29431848  5.9348551 ] 3.710945334833611\n",
      "20 [-2.29268912 -8.72025333  4.17276054 10.18034879] 3.506265836241353\n",
      "30 [ -4.09440801 -10.34703714   5.5879939   13.01173456] 2.3089597892606943\n",
      "40 [-5.57242773 -6.10261658  5.77156526 14.4168234 ] 1.1212375695448837\n",
      "50 [-7.45163845 -4.0859659   3.67474103 12.42389121] 0.7494632553084158\n",
      "60 [-8.78785146 -2.90878665  1.12113101 10.74280074] 0.4607754247471097\n",
      "70 [-9.76534927 -2.37008977 -0.95071347  9.4886805 ] 0.2950475569349471\n",
      "80 [-10.5618974   -7.3963018    0.17066702  12.92303953] 3.442663308990163\n",
      "90 [-12.15621301  -9.26772008   1.62850554  15.68474617] 1.729646253466203\n",
      "0 [-1.40022026 -7.39264425  0.51078644 -1.30770149] 1.1785958344356262\n",
      "10 [-1.07864628 -8.72671017  2.48805813  6.52524518] 4.03184466673311\n",
      "20 [-2.52216208 -9.723503    4.61410199 11.48007987] 4.098968209189059\n",
      "30 [ -4.63334572 -11.64389864   6.28336812  14.57775491] 2.641151254373219\n",
      "40 [-6.27660547 -6.81132039  6.91389636 16.57462648] 1.2809044990139067\n",
      "50 [-8.33588288 -4.71558488  4.37667715 14.33134607] 0.8636341745542977\n",
      "60 [-9.89057985 -3.47579488  1.37254373 12.33830092] 0.5204915399418862\n",
      "70 [-11.04497207  -2.58301377  -1.08468204  10.85088807] 0.30007861619655535\n",
      "80 [-11.72608404  -8.39329466  -0.99403922  13.8660004 ] 4.060277788969428\n",
      "90 [-13.61302349 -10.12546942   1.0841385   17.29665373] 2.4981800394280853\n",
      "0 [ 0.49667621 -0.13840939  0.6476858   1.52297324] 1.1785958344356262\n",
      "0 [ 0.28590994 -0.94443548  0.63247476  1.20845383] 1.1785958344356262\n",
      "0 [ 0.07514367 -1.75046158  0.61726372  0.89393441] 1.1785958344356262\n",
      "0 [-0.13562261 -2.55648768  0.60205268  0.579415  ] 1.1785958344356262\n",
      "0 [-0.34638888 -3.36251377  0.58684164  0.26489558] 1.1785958344356262\n",
      "0 [-0.55715516 -4.16853987  0.5716306  -0.04962383] 1.1785958344356262\n",
      "0 [-0.76792143 -4.97456596  0.55641956 -0.36414324] 1.1785958344356262\n"
     ]
    },
    {
     "name": "stderr",
     "output_type": "stream",
     "text": [
      "\r",
      " 50%|█████     | 2/4 [00:00<00:00,  8.91it/s]"
     ]
    },
    {
     "name": "stdout",
     "output_type": "stream",
     "text": [
      "0 [-0.97868771 -5.78059206  0.54120852 -0.67866266] 1.1785958344356262\n",
      "0 [-1.18945398 -6.58661815  0.52599748 -0.99318207] 1.1785958344356262\n",
      "0 [-1.40022026 -7.39264425  0.51078644 -1.30770149] 1.1785958344356262\n",
      "0 [ 0.49667621 -0.13840939  0.6476858   1.52297324] 1.1785958344356262\n",
      "0 [ 0.28590994 -0.94443548  0.63247476  1.20845383] 1.1785958344356262\n",
      "0 [ 0.07514367 -1.75046158  0.61726372  0.89393441] 1.1785958344356262\n",
      "0 [-0.13562261 -2.55648768  0.60205268  0.579415  ] 1.1785958344356262\n",
      "0 [-0.34638888 -3.36251377  0.58684164  0.26489558] 1.1785958344356262\n",
      "0 [-0.55715516 -4.16853987  0.5716306  -0.04962383] 1.1785958344356262\n",
      "0 [-0.76792143 -4.97456596  0.55641956 -0.36414324] 1.1785958344356262\n",
      "0 [-0.97868771 -5.78059206  0.54120852 -0.67866266] 1.1785958344356262\n",
      "0"
     ]
    },
    {
     "name": "stderr",
     "output_type": "stream",
     "text": [
      "\r",
      " 75%|███████▌  | 3/4 [00:01<00:00,  2.43it/s]"
     ]
    },
    {
     "name": "stdout",
     "output_type": "stream",
     "text": [
      " [-1.18945398 -6.58661815  0.52599748 -0.99318207] 1.1785958344356262\n",
      "0 [-1.40022026 -7.39264425  0.51078644 -1.30770149] 1.1785958344356262\n",
      "0 [ 0.49667621 -0.13840939  0.6476858   1.52297324] 1.1785958344356262\n",
      "1000 [ 0.46070853 -0.27660658  0.64395225  1.46886563] 0.9450063518188168\n",
      "2000 [ 0.42910538 -0.39762907  0.63899133  1.42101856] 0.7649678531356925\n",
      "3000 [ 0.40237714 -0.49496601  0.63497974  1.38181554] 0.6467938123731767\n",
      "4000 [ 0.38047894 -0.5650296   0.63387164  1.35257212] 0.5836344091291391\n",
      "5000 [ 0.36247418 -0.61238439  0.63568618  1.33181421] 0.5532531003505642\n",
      "6000 [ 0.34723076 -0.64431226  0.63950668  1.31708294] 0.5382593304625718\n",
      "7000 [ 0.33391048 -0.6662408   0.64455548  1.30646938] 0.5302255883714215\n",
      "8000 [ 0.32196306 -0.68156712  0.65034185  1.29871977] 0.5254818665326442\n",
      "9000 [ 0.3110257  -0.69240217  0.65656725  1.29301615] 0.5223831652167139\n",
      "0 [ 0.28590994 -0.94443548  0.63247476  1.20845383] 1.1785958344356262\n",
      "1000 [-7.90015752 -1.16909903 -1.52548197  6.89361462] 0.26391054090882\n",
      "2000 [-11.35645341  -1.43390426  -2.60824259   9.62471983] 0.22635675223534615\n",
      "3000 [-14.03046081  -1.66001425  -3.41411773  11.78415764] 0.2037638270643773\n",
      "4000 [-16.304384    -1.85833582  -4.08735966  13.62983678] 0.1874100365544368\n",
      "5000 [-18.30085666  -2.03503235  -4.67183402  15.25263628] 0.17480865261102263\n",
      "6000 [-20.08471945  -2.19427403  -5.18980025  16.70305751] 0.16475608065916192\n",
      "7000 [-21.69855016  -2.33913985  -5.65543603  18.01504121] 0.15653561915028436\n",
      "8000 [-23.17304181  -2.47198991  -6.07873459  19.21331894] 0.14967929108167988\n",
      "9000 [-24.53136652  -2.59467254  -6.4671108   20.31666255] 0.14386559489632436\n",
      "0 [ 0.07514367 -1.75046158  0.61726372  0.89393441] 1.1785958344356262\n",
      "1000 [-11.44528099  -1.44122375  -2.63533942   9.69609093] 0.22556263277259253\n",
      "2000 [-16.36828357  -1.86395989  -4.10615432  13.68175593] 0.18699683668614814\n",
      "3000 [-20.13561741  -2.19883247  -5.20452651  16.74444036] 0.16449361984981276\n",
      "4000 [-23.21540979  -2.47581275  -6.09087029  19.2477421 ] 0.1494971725531436\n",
      "5000 [-25.82785462  -2.71194723  -6.8365825   21.36918157] 0.13873170249298233\n",
      "6000 [-28.10333985  -2.9179494   -7.48265765  23.21473592] 0.13058026909511172\n",
      "7000 [-30.1256861   -3.10092127  -8.05489503  24.85271949] 0.12415275550816807\n",
      "8000 [-31.95169078  -3.26577256  -8.57049715  26.32948126] 0.11892103269327696\n",
      "9000 [-33.62143444  -3.41601852  -9.04144957  27.67775207] 0.11455295949660216\n",
      "0 [-0.13562261 -2.55648768  0.60205268  0.579415  ] 1.1785958344356262\n",
      "1000 [-14.72230851  -1.71992994  -3.6199285   12.34520275] 0.1985756390566209\n",
      "2000 [-20.5676231   -2.23755245  -5.32940763  17.09567568] 0.162230467037064\n",
      "3000 [-24.90524993  -2.62847835  -6.57377481  20.6202544 ] 0.14235446607447128\n",
      "4000 [-28.37838924  -2.94284827  -7.56057877  23.43764528] 0.12966706220041332\n",
      "5000 [-31.29548187  -3.20658439  -8.38529537  25.7990411 ] 0.12074588936439849\n",
      "6000 [-33.82804986  -3.43456785  -9.09970665  27.84443404] 0.11403964872814336\n",
      "7000 [-36.08038384  -3.63602387  -9.73475041  29.65902035] 0.10874808099413384\n",
      "8000 [-38.1202141   -3.81702352 -10.31025777  31.29815686] 0.10441758827983846\n",
      "9000 [-39.99382788  -3.98175601 -10.839644    32.79968708] 0.10077191254958615\n",
      "0 [-0.34638888 -3.36251377  0.58684164  0.26489558] 1.1785958344356262\n",
      "1000 [-18.17672574  -2.00126499  -4.62235992  15.21279305] 0.1770123976376619\n",
      "2000 [-24.46638547  -2.58879844  -6.44856263  20.2638931 ] 0.14414963899912223\n",
      "3000 [-29.0616141   -3.0046828   -7.75399923  23.9911756 ] 0.1274523426743533\n",
      "4000 [-32.73760878  -3.33656143  -8.79220818  26.9643568 ] 0.11682303305851371\n",
      "5000 [-35.83771539  -3.61439215  -9.66632067  29.46374015] 0.1092926432024142\n",
      "6000 [-38.54613786  -3.85460979 -10.43052173  31.63985229] 0.10356386960821237\n",
      "7000 [-40.97227658  -4.06711236 -11.11652895  33.58213618] 0.09898091245109455\n",
      "8000 [-43.18607039  -4.25829021 -11.7443996   35.34779626] 0.09517607633024211\n",
      "9000 [-45.23478254  -4.43249706 -12.32756845  36.97551378] 0.0919266621124073\n",
      "0 [-0.55715516 -4.16853987  0.5716306  -0.04962383] 1.1785958344356262\n",
      "1000 [-22.10955106  -2.46891276  -5.75734624  18.35338817] 0.15590447648966338\n",
      "2000 [-28.36952954  -2.9420463   -7.55806934  23.43046572] 0.12970334946141565\n",
      "3000 [-33.01235243  -3.36127946  -8.86969489  27.18618745] 0.11610984819144976\n",
      "4000 [-36.77563353  -3.69788846  -9.93083571  30.21818132] 0.10722928742791453\n",
      "5000 [-39.98889684  -3.98132467 -10.83824937  32.79574087] 0.10078337572155616\n",
      "6000 [-42.82815676  -4.22757743 -11.64274084  35.06279459] 0.09577022509443874\n",
      "7000 [-45.39782297  -4.4462381  -12.37407805  37.10477447] 0.09167886874697635\n",
      "8000 [-47.76461899  -4.64350014 -13.0510912   38.97634227] 0.08822020375187649\n",
      "9000 [-49.9735998   -4.8236009  -13.68637067  40.7144932 ] 0.08521765701566694\n",
      "0 [-0.76792143 -4.97456596  0.55641956 -0.36414324] 1.1785958344356262\n",
      "1000 [-25.43602267  -2.6565547   -6.70970402  21.14824279] 0.14198905400067663\n",
      "2000 [-31.71081267  -3.24405414  -8.50252396  26.13480541] 0.11959246246626862\n",
      "3000 [-36.40986537  -3.66536272  -9.82766917  29.92406898] 0.10802536803557099\n",
      "4000 [-40.27229637  -4.00609844 -10.91841228  33.02249641] 0.10025778797417975\n",
      "5000 [-43.61038904  -4.29459759 -11.86500067  35.68543598] 0.09448469996984618\n",
      "6000 [-46.59126708  -4.54623504 -12.71501316  38.0496569 ] 0.08990173219622867\n",
      "7000 [-49.31422697  -4.77026801 -13.4963763   40.1965646 ] 0.08609375525970178\n",
      "8000 [-51.84272756  -4.97272537 -14.22671868  42.17837364] 0.08282355648763759\n",
      "9000 [-54.21952102  -5.15779141 -14.91774447  44.03048844] 0.0799451327670053\n",
      "0 [-0.97868771 -5.78059206  0.54120852 -0.67866266] 1.1785958344356262\n",
      "1000 [-29.51842072  -3.07263804  -7.87748913  24.35490316] 0.12617456468627888\n",
      "2000 [-35.44087849  -3.57897687  -9.55442643  29.14427629] 0.11019921167767925\n",
      "3000 [-40.06316754  -3.98782106 -10.85925512  32.85517655] 0.10064697689294344\n",
      "4000 [-43.94811431  -4.3234131  -11.96105527  35.95398255] 0.0939415840450192\n",
      "5000 [-47.36238505  -4.61027767 -12.93577869  38.65892884] 0.08879058179324839\n",
      "6000 [-50.45185557  -4.86205044 -13.8243782   41.08966651] 0.08459409041947151\n",
      "7000 [-53.30436248  -5.08714978 -14.65114495  43.31860359] 0.08103344662195235\n",
      "8000 [-55.97639509  -5.29121993 -15.43141     45.39273759] 0.07792275675960668\n",
      "9000 [-58.50601502  -5.47830805 -16.17525248  47.34419042] 0.07514594680666162\n",
      "0 [-1.18945398 -6.58661815  0.52599748 -0.99318207] 1.1785958344356262\n",
      "1000 [-32.578128    -3.31959148  -8.74696571  26.83970938] 0.11725128231349449\n",
      "2000 [-38.42627371  -3.84404012 -10.39667255  31.54371258] 0.10380800478912774\n",
      "3000 [-43.0864963   -4.24975377 -11.71611111  35.26852543] 0.09534384268530396\n",
      "4000 [-47.06468392  -4.58560742 -12.85050302  38.42382862] 0.08921719418465797\n",
      "5000 [-50.6031293   -4.87417069 -13.86806604  41.20824845] 0.0843988025251441\n",
      "6000 [-53.8356663   -5.12825614 -14.80584087  43.7320863 ] 0.08039935596063791\n",
      "7000 [-56.8431086   -5.35598479 -15.68571203  46.06266376] 0.07695468813615013\n",
      "8000 [-59.67725837  -5.56296823 -16.52130178  48.24388919] 0.07390911152039249\n",
      "9000 [-62.37273622  -5.75333852 -17.32137999  50.3058021 ] 0.07116485911573214\n",
      "0 [-1.40022026 -7.39264425  0.51078644 -1.30770149] 1.1785958344356262\n",
      "1000 [-35.62255538  -3.59519667  -9.6056517   29.29054945] 0.10978759274085048\n",
      "2000 [-41.37527762  -4.10212251 -11.2306732   33.90405266] 0.09826836932820042\n",
      "3000 [-46.06565391  -4.50232372 -12.56475161  37.63379861] 0.09067806083051089\n",
      "4000 [-50.13297814  -4.83643635 -13.73234248  40.83956573] 0.0850107717489422\n",
      "5000 [-53.79308935  -5.12497171 -14.79343575  43.69897076] 0.08045036256303109\n",
      "6000 [-57.16641298  -5.37996547 -15.7807227   46.31220979] 0.0765984981213237\n",
      "7000 [-60.32572867  -5.60932407 -16.71332394  48.74101231] 0.07323658029352839\n",
      "8000 [-63.31742028  -5.81867311 -17.60291611  51.02578454] 0.07023454400957989\n",
      "9000 [-66.1722159   -6.01220331 -18.4568673   53.19411498] 0.0675102508813699\n"
     ]
    },
    {
     "name": "stderr",
     "output_type": "stream",
     "text": [
      "100%|██████████| 4/4 [00:04<00:00,  1.21s/it]"
     ]
    },
    {
     "name": "stdout",
     "output_type": "stream",
     "text": [
      "Ошибка 0.06501169697490264 при параметрах {'iteration': 10000, 'eta': 5.0}\n"
     ]
    },
    {
     "name": "stderr",
     "output_type": "stream",
     "text": [
      "\n"
     ]
    }
   ],
   "source": [
    "iterations = np.logspace(2, 4, 4, dtype=np.int)\n",
    "etas = np.linspace(1e-4, 5, 10)\n",
    "\n",
    "best_error = np.inf\n",
    "best_params = {}\n",
    "\n",
    "for iteration in tqdm(iterations):\n",
    "    for eta in etas:\n",
    "        W, error = eval_model(X_st, y, iterations=iteration, eta=eta)\n",
    "        if error < best_error:\n",
    "            best_error = error\n",
    "            best_params = {\n",
    "                'iteration': iteration,\n",
    "                'eta': eta\n",
    "            }\n",
    "\n",
    "print(f'Ошибка {best_error} при параметрах {best_params}')"
   ]
  },
  {
   "cell_type": "code",
   "execution_count": 20,
   "id": "58ad1cd8",
   "metadata": {},
   "outputs": [
    {
     "name": "stdout",
     "output_type": "stream",
     "text": [
      "0 [-1.40022026 -7.39264425  0.51078644 -1.30770149] 1.1785958344356262\n",
      "1000 [-35.62255538  -3.59519667  -9.6056517   29.29054945] 0.10978759274085048\n",
      "2000 [-41.37527762  -4.10212251 -11.2306732   33.90405266] 0.09826836932820042\n",
      "3000 [-46.06565391  -4.50232372 -12.56475161  37.63379861] 0.09067806083051089\n",
      "4000 [-50.13297814  -4.83643635 -13.73234248  40.83956573] 0.0850107717489422\n",
      "5000 [-53.79308935  -5.12497171 -14.79343575  43.69897076] 0.08045036256303109\n",
      "6000 [-57.16641298  -5.37996547 -15.7807227   46.31220979] 0.0765984981213237\n",
      "7000 [-60.32572867  -5.60932407 -16.71332394  48.74101231] 0.07323658029352839\n",
      "8000 [-63.31742028  -5.81867311 -17.60291611  51.02578454] 0.07023454400957989\n",
      "9000 [-66.1722159   -6.01220331 -18.4568673   53.19411498] 0.0675102508813699\n"
     ]
    }
   ],
   "source": [
    "W, error = eval_model(X_st, y, iterations=10000, eta=5)"
   ]
  },
  {
   "cell_type": "markdown",
   "id": "bc57c0fb",
   "metadata": {},
   "source": [
    "***3. Создайте функцию calc_pred_proba, возвращающую предсказанную вероятность класса 1 (на вход подаются W, который уже посчитан функцией eval_model и X, на выходе - массив y_pred_proba).***"
   ]
  },
  {
   "cell_type": "code",
   "execution_count": 21,
   "id": "459c60ac",
   "metadata": {},
   "outputs": [],
   "source": [
    "def calc_pred_proba(W, X):\n",
    "    y_pred_proba = sigmoid(np.dot(X, W))\n",
    "    return y_pred_proba"
   ]
  },
  {
   "cell_type": "code",
   "execution_count": 22,
   "id": "e76dd285",
   "metadata": {},
   "outputs": [
    {
     "data": {
      "text/plain": [
       "array([2.78422831e-01, 1.35803163e-04, 1.00000000e+00, 1.26327709e-13,\n",
       "       9.84539392e-01, 1.24523221e-03, 1.00000000e+00, 3.01605650e-03,\n",
       "       7.38013485e-01, 1.00000000e+00])"
      ]
     },
     "execution_count": 22,
     "metadata": {},
     "output_type": "execute_result"
    }
   ],
   "source": [
    "calc_pred_proba(W, X_st)"
   ]
  },
  {
   "cell_type": "markdown",
   "id": "9c5b4729",
   "metadata": {},
   "source": [
    "***4. Создайте функцию calc_pred, возвращающую предсказанный класс (на вход подаются W, который уже посчитан функцией eval_model и X, на выходе - массив y_pred).***"
   ]
  },
  {
   "cell_type": "code",
   "execution_count": 23,
   "id": "a7933a8d",
   "metadata": {},
   "outputs": [],
   "source": [
    "def calc_pred(W, X):\n",
    "    y_pred_proba = calc_pred_proba(W, X)\n",
    "    y_pred = np.where(y_pred_proba > 0.5, 1, 0)\n",
    "    return y_pred"
   ]
  },
  {
   "cell_type": "code",
   "execution_count": 24,
   "id": "65d1e62b",
   "metadata": {},
   "outputs": [
    {
     "data": {
      "text/plain": [
       "array([0, 0, 1, 0, 1, 0, 1, 0, 1, 1])"
      ]
     },
     "execution_count": 24,
     "metadata": {},
     "output_type": "execute_result"
    }
   ],
   "source": [
    "pred = calc_pred(W, X_st)\n",
    "pred"
   ]
  },
  {
   "cell_type": "markdown",
   "id": "80058167",
   "metadata": {},
   "source": [
    "***5. *Реализуйте функции для подсчета Accuracy, матрицы ошибок, точности и полноты, а также F1 score.***"
   ]
  },
  {
   "cell_type": "markdown",
   "id": "cf25865a",
   "metadata": {},
   "source": [
    "*Accuracy*"
   ]
  },
  {
   "cell_type": "code",
   "execution_count": 25,
   "id": "d2cef305",
   "metadata": {},
   "outputs": [],
   "source": [
    "def accuracy(y, y_pred):\n",
    "    accuracy = np.mean(y == y_pred)\n",
    "    return accuracy"
   ]
  },
  {
   "cell_type": "code",
   "execution_count": 26,
   "id": "2be10a47",
   "metadata": {},
   "outputs": [
    {
     "name": "stdout",
     "output_type": "stream",
     "text": [
      "True \t  [0 0 1 0 1 0 1 0 1 1]\n",
      "Predicted [0 0 1 0 1 0 1 0 1 1]\n"
     ]
    }
   ],
   "source": [
    "print(f'True \\t  {y.astype(int)}')\n",
    "print(f'Predicted {pred}')"
   ]
  },
  {
   "cell_type": "code",
   "execution_count": 27,
   "id": "482f9763",
   "metadata": {},
   "outputs": [
    {
     "data": {
      "text/plain": [
       "1.0"
      ]
     },
     "execution_count": 27,
     "metadata": {},
     "output_type": "execute_result"
    }
   ],
   "source": [
    "accuracy(y, pred)"
   ]
  },
  {
   "cell_type": "markdown",
   "id": "ea4b6a57",
   "metadata": {},
   "source": [
    "*Confusion Matrix*"
   ]
  },
  {
   "cell_type": "code",
   "execution_count": 28,
   "id": "2a3b7c54",
   "metadata": {},
   "outputs": [],
   "source": [
    "def confusion_matrix(y, y_pred):\n",
    "    cm = np.zeros((2, 2))\n",
    "    for i in range(len(y)): \n",
    "        if y[i] == y_pred[i] == 1: # TP\n",
    "            cm[0][0] += 1\n",
    "        elif y[i] == y_pred[i] == 0: # TN\n",
    "            cm[1][1] += 1\n",
    "        elif y[i] != y_pred[i] and y[i] == 1: # FN\n",
    "            cm[1][0] += 1\n",
    "        elif y[i] != y_pred[i] and y[i] == 0: # FP\n",
    "            cm[0][1] += 1\n",
    "    return cm"
   ]
  },
  {
   "cell_type": "code",
   "execution_count": 29,
   "id": "b179fafe",
   "metadata": {},
   "outputs": [
    {
     "data": {
      "text/plain": [
       "array([[5., 0.],\n",
       "       [0., 5.]])"
      ]
     },
     "execution_count": 29,
     "metadata": {},
     "output_type": "execute_result"
    }
   ],
   "source": [
    "cm = confusion_matrix(y, pred)\n",
    "cm"
   ]
  },
  {
   "cell_type": "markdown",
   "id": "a5580d6a",
   "metadata": {},
   "source": [
    "*Precision*"
   ]
  },
  {
   "cell_type": "code",
   "execution_count": 30,
   "id": "03d87322",
   "metadata": {},
   "outputs": [],
   "source": [
    "def precision(y, y_pred):\n",
    "    cm = confusion_matrix(y, y_pred)\n",
    "    TP = cm[0][0]\n",
    "    TN = cm[1][1]\n",
    "    FP = cm[0][1]\n",
    "    FN = cm[1][0]\n",
    "    precision = TP / (TP + FP)\n",
    "    return precision"
   ]
  },
  {
   "cell_type": "code",
   "execution_count": 31,
   "id": "b9a42711",
   "metadata": {},
   "outputs": [
    {
     "data": {
      "text/plain": [
       "1.0"
      ]
     },
     "execution_count": 31,
     "metadata": {},
     "output_type": "execute_result"
    }
   ],
   "source": [
    "precision(y, pred)"
   ]
  },
  {
   "cell_type": "markdown",
   "id": "4111cf3b",
   "metadata": {},
   "source": [
    "*Recall*"
   ]
  },
  {
   "cell_type": "code",
   "execution_count": 32,
   "id": "d7bee3fe",
   "metadata": {},
   "outputs": [],
   "source": [
    "def recall(y, y_pred):\n",
    "    cm = confusion_matrix(y, y_pred)\n",
    "    TP = cm[0][0]\n",
    "    TN = cm[1][1]\n",
    "    FP = cm[0][1]\n",
    "    FN = cm[1][0]\n",
    "    recall = TP / (TP + FN)\n",
    "    return recall"
   ]
  },
  {
   "cell_type": "code",
   "execution_count": 33,
   "id": "9e8ffe06",
   "metadata": {},
   "outputs": [
    {
     "data": {
      "text/plain": [
       "1.0"
      ]
     },
     "execution_count": 33,
     "metadata": {},
     "output_type": "execute_result"
    }
   ],
   "source": [
    "recall(y, pred)"
   ]
  },
  {
   "cell_type": "markdown",
   "id": "9abcd07c",
   "metadata": {},
   "source": [
    "*F-score*"
   ]
  },
  {
   "cell_type": "code",
   "execution_count": 34,
   "id": "ac840028",
   "metadata": {},
   "outputs": [],
   "source": [
    "def f_score(y, y_pred):\n",
    "    pr = precision(y, y_pred)\n",
    "    rec = recall(y, y_pred)\n",
    "    f_score = 2 * pr * rec / (pr + rec)\n",
    "    return f_score"
   ]
  },
  {
   "cell_type": "code",
   "execution_count": 35,
   "id": "fce5b8bf",
   "metadata": {},
   "outputs": [
    {
     "data": {
      "text/plain": [
       "1.0"
      ]
     },
     "execution_count": 35,
     "metadata": {},
     "output_type": "execute_result"
    }
   ],
   "source": [
    "f_score(y, pred)"
   ]
  },
  {
   "cell_type": "markdown",
   "id": "3095fcd4",
   "metadata": {},
   "source": [
    "***6. Могла ли модель переобучиться? Почему?***"
   ]
  },
  {
   "cell_type": "markdown",
   "id": "eb57fd1f",
   "metadata": {},
   "source": [
    "Да, т.к. у нас маленький размер выборки (мало данных) и нет разделения на обучающую и тестовую выборку для проверки. Для снижения переобучения можно увеличить количество данных, уменьшить количество итераций, а также использовать L1 и L2 регуляризацию."
   ]
  },
  {
   "cell_type": "code",
   "execution_count": null,
   "id": "574d913b",
   "metadata": {},
   "outputs": [],
   "source": []
  }
 ],
 "metadata": {
  "kernelspec": {
   "display_name": "Python 3 (ipykernel)",
   "language": "python",
   "name": "python3"
  },
  "language_info": {
   "codemirror_mode": {
    "name": "ipython",
    "version": 3
   },
   "file_extension": ".py",
   "mimetype": "text/x-python",
   "name": "python",
   "nbconvert_exporter": "python",
   "pygments_lexer": "ipython3",
   "version": "3.9.13"
  }
 },
 "nbformat": 4,
 "nbformat_minor": 5
}
