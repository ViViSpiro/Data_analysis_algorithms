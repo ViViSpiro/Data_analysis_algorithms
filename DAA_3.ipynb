{
 "cells": [
  {
   "cell_type": "code",
   "execution_count": 1,
   "id": "7d2f701d",
   "metadata": {},
   "outputs": [],
   "source": [
    "import numpy as np\n",
    "import matplotlib.pyplot as plt\n",
    "import warnings\n",
    "warnings.filterwarnings('ignore')"
   ]
  },
  {
   "cell_type": "code",
   "execution_count": 2,
   "id": "9ae6d18e",
   "metadata": {},
   "outputs": [],
   "source": [
    "X = np.array([ [   1,    1,  500,    1],\n",
    "               [   1,    1,  700,    1],\n",
    "               [   1,    2,  750,    2],\n",
    "               [   1,    5,  600,    1],\n",
    "               [   1,    3, 1450,    2],\n",
    "               [   1,    0,  800,    1],\n",
    "               [   1,    5, 1500,    3],\n",
    "               [   1,   10, 2000,    3],\n",
    "               [   1,    1,  450,    1],\n",
    "               [   1,    2, 1000,    2]], dtype=np.float64)\n",
    "\n",
    "y = np.array([0, 0, 1, 0, 1, 0, 1, 0, 1, 1], dtype=np.float64)"
   ]
  },
  {
   "cell_type": "code",
   "execution_count": 3,
   "id": "8f2b6734",
   "metadata": {},
   "outputs": [
    {
     "data": {
      "text/plain": [
       "array([[1.00e+00, 1.00e+00, 5.00e+02, 1.00e+00],\n",
       "       [1.00e+00, 1.00e+00, 7.00e+02, 1.00e+00],\n",
       "       [1.00e+00, 2.00e+00, 7.50e+02, 2.00e+00],\n",
       "       [1.00e+00, 5.00e+00, 6.00e+02, 1.00e+00],\n",
       "       [1.00e+00, 3.00e+00, 1.45e+03, 2.00e+00],\n",
       "       [1.00e+00, 0.00e+00, 8.00e+02, 1.00e+00],\n",
       "       [1.00e+00, 5.00e+00, 1.50e+03, 3.00e+00],\n",
       "       [1.00e+00, 1.00e+01, 2.00e+03, 3.00e+00],\n",
       "       [1.00e+00, 1.00e+00, 4.50e+02, 1.00e+00],\n",
       "       [1.00e+00, 2.00e+00, 1.00e+03, 2.00e+00]])"
      ]
     },
     "execution_count": 3,
     "metadata": {},
     "output_type": "execute_result"
    }
   ],
   "source": [
    "X"
   ]
  },
  {
   "cell_type": "code",
   "execution_count": 4,
   "id": "a266ae1c",
   "metadata": {},
   "outputs": [
    {
     "data": {
      "text/plain": [
       "array([0., 0., 1., 0., 1., 0., 1., 0., 1., 1.])"
      ]
     },
     "execution_count": 4,
     "metadata": {},
     "output_type": "execute_result"
    }
   ],
   "source": [
    "y"
   ]
  },
  {
   "cell_type": "code",
   "execution_count": 5,
   "id": "09ad4aa2",
   "metadata": {},
   "outputs": [],
   "source": [
    "def standard_scale(x):\n",
    "    res = (x - x.mean(axis=0)) / x.std(axis=0)\n",
    "    return res"
   ]
  },
  {
   "cell_type": "code",
   "execution_count": 6,
   "id": "90d7b44b",
   "metadata": {},
   "outputs": [],
   "source": [
    "X_st = X.copy().astype(np.float64)\n",
    "X_st[:, 1:4] = standard_scale(X[:, 1:4])"
   ]
  },
  {
   "cell_type": "code",
   "execution_count": 7,
   "id": "43daed91",
   "metadata": {},
   "outputs": [
    {
     "data": {
      "text/plain": [
       "array([[ 1.        , -0.70710678, -0.97958969, -0.89625816],\n",
       "       [ 1.        , -0.70710678, -0.56713087, -0.89625816],\n",
       "       [ 1.        , -0.35355339, -0.46401617,  0.38411064],\n",
       "       [ 1.        ,  0.70710678, -0.77336028, -0.89625816],\n",
       "       [ 1.        ,  0.        ,  0.97958969,  0.38411064],\n",
       "       [ 1.        , -1.06066017, -0.36090146, -0.89625816],\n",
       "       [ 1.        ,  0.70710678,  1.08270439,  1.66447944],\n",
       "       [ 1.        ,  2.47487373,  2.11385144,  1.66447944],\n",
       "       [ 1.        , -0.70710678, -1.08270439, -0.89625816],\n",
       "       [ 1.        , -0.35355339,  0.05155735,  0.38411064]])"
      ]
     },
     "execution_count": 7,
     "metadata": {},
     "output_type": "execute_result"
    }
   ],
   "source": [
    "X_st"
   ]
  },
  {
   "cell_type": "markdown",
   "id": "61db6ea7",
   "metadata": {},
   "source": [
    "***1. *Измените функцию calc_logloss так, чтобы нули по возможности не попадали в np.log.***"
   ]
  },
  {
   "cell_type": "code",
   "execution_count": 8,
   "id": "f4852224",
   "metadata": {},
   "outputs": [],
   "source": [
    "def calc_logloss(y, y_pred):\n",
    "    eps = 1e-9\n",
    "    y_pred = np.clip(y_pred, eps, 1 - eps)\n",
    "    err = - np.mean(y * np.log(y_pred) + (1.0 - y) * np.log(1.0 - y_pred))\n",
    "    return err"
   ]
  },
  {
   "cell_type": "code",
   "execution_count": 9,
   "id": "9c104a0b",
   "metadata": {},
   "outputs": [
    {
     "data": {
      "text/plain": [
       "9.999999722180686e-10"
      ]
     },
     "execution_count": 9,
     "metadata": {},
     "output_type": "execute_result"
    }
   ],
   "source": [
    "y1 = np.array([1, 0])\n",
    "y_pred1 = np.array([1, 0])\n",
    "calc_logloss(y1, y_pred1)"
   ]
  },
  {
   "cell_type": "code",
   "execution_count": 10,
   "id": "bdc48111",
   "metadata": {},
   "outputs": [
    {
     "data": {
      "text/plain": [
       "20.723265851087376"
      ]
     },
     "execution_count": 10,
     "metadata": {},
     "output_type": "execute_result"
    }
   ],
   "source": [
    "y1 = np.array([1, 0])\n",
    "y_pred1 = np.array([0, 1])\n",
    "calc_logloss(y1, y_pred1)"
   ]
  },
  {
   "cell_type": "markdown",
   "id": "f44e65fa",
   "metadata": {},
   "source": [
    "***2. Подберите аргументы функции eval_model для логистической регрессии таким образом, чтобы log loss был минимальным.***"
   ]
  },
  {
   "cell_type": "code",
   "execution_count": 11,
   "id": "28ea6b7f",
   "metadata": {},
   "outputs": [],
   "source": [
    "def sigmoid(z):\n",
    "    res = 1 / (1 + np.exp(-z))\n",
    "    return res"
   ]
  },
  {
   "cell_type": "code",
   "execution_count": 12,
   "id": "6773cc52",
   "metadata": {},
   "outputs": [],
   "source": [
    "z = np.linspace(-10, 10, 101)"
   ]
  },
  {
   "cell_type": "code",
   "execution_count": 13,
   "id": "91faba80",
   "metadata": {},
   "outputs": [],
   "source": [
    "probabilities = sigmoid(z)"
   ]
  },
  {
   "cell_type": "code",
   "execution_count": 14,
   "id": "dde81960",
   "metadata": {},
   "outputs": [
    {
     "data": {
      "image/png": "[encoded data removed]",
      "text/plain": [
       "<Figure size 640x480 with 1 Axes>"
      ]
     },
     "metadata": {},
     "output_type": "display_data"
    }
   ],
   "source": [
    "plt.plot(z, probabilities)\n",
    "plt.show()"
   ]
  },
  {
   "cell_type": "code",
   "execution_count": 15,
   "id": "9aa43028",
   "metadata": {},
   "outputs": [],
   "source": [
    "def eval_model(X, y, iterations, eta=1e-4):\n",
    "    np.random.seed(42)\n",
    "    W = np.random.randn(X.shape[1])\n",
    "    n = X.shape[0]\n",
    "    \n",
    "    for i in range(iterations):\n",
    "        z = np.dot(X, W)\n",
    "        y_pred = sigmoid(z)\n",
    "        err = calc_logloss(y, y_pred)\n",
    "        \n",
    "        dQ = 1/n * X.T @ (y_pred - y)\n",
    "        W -= eta * dQ\n",
    "        if i % (iterations / 10) == 0:\n",
    "            print(i, W, err)\n",
    "            \n",
    "    final_error = calc_logloss(y, y_pred)\n",
    "    return W, final_error        "
   ]
  },
  {
   "cell_type": "code",
   "execution_count": 16,
   "id": "883c9800",
   "metadata": {},
   "outputs": [
    {
     "name": "stdout",
     "output_type": "stream",
     "text": [
      "0 [ 0.4967106  -0.13829138  0.6476652   1.52301741] 0.7609587975918891\n",
      "50 [ 0.49653276 -0.13964506  0.64649853  1.52239548] 0.7602363860386216\n",
      "100 [ 0.49635422 -0.14099791  0.64533277  1.52177448] 0.7595150284215482\n",
      "150 [ 0.496175   -0.14234992  0.64416792  1.5211544 ] 0.7587947248247474\n",
      "200 [ 0.49599509 -0.14370111  0.64300398  1.52053525] 0.7580754753308986\n",
      "250 [ 0.4958145  -0.14505147  0.64184096  1.51991703] 0.7573572800212872\n",
      "300 [ 0.49563322 -0.14640099  0.64067885  1.51929974] 0.7566401389758188\n",
      "350 [ 0.49545126 -0.14774968  0.63951766  1.51868337] 0.7559240522730254\n",
      "400 [ 0.49526862 -0.14909754  0.63835738  1.51806794] 0.7552090199900763\n",
      "450 [ 0.4950853  -0.15044456  0.63719802  1.51745344] 0.7544950422027925\n"
     ]
    }
   ],
   "source": [
    "W = eval_model(X_st, y, iterations=500, eta=1e-4)"
   ]
  },
  {
   "cell_type": "code",
   "execution_count": 17,
   "id": "ee9daed4",
   "metadata": {},
   "outputs": [],
   "source": [
    "from tqdm import tqdm"
   ]
  },
  {
   "cell_type": "code",
   "execution_count": 18,
   "id": "3550fa0d",
   "metadata": {},
   "outputs": [
    {
     "data": {
      "text/plain": [
       "(array([  100,   464,  2154, 10000]),\n",
       " array([1.00000000e-04, 5.55644444e-01, 1.11118889e+00, 1.66673333e+00,\n",
       "        2.22227778e+00, 2.77782222e+00, 3.33336667e+00, 3.88891111e+00,\n",
       "        4.44445556e+00, 5.00000000e+00]))"
      ]
     },
     "execution_count": 18,
     "metadata": {},
     "output_type": "execute_result"
    }
   ],
   "source": [
    "np.logspace(2, 4, 4, dtype=np.int), np.linspace(1e-4, 5, 10)"
   ]
  },
  {
   "cell_type": "code",
   "execution_count": 19,
   "id": "22e38447",
   "metadata": {},
   "outputs": [
    {
     "name": "stderr",
     "output_type": "stream",
     "text": [
      " 50%|█████     | 2/4 [00:00<00:00,  9.04it/s]"
     ]
    },
    {
     "name": "stdout",
     "output_type": "stream",
     "text": [
      "0 [ 0.4967106  -0.13829138  0.6476652   1.52301741] 0.7609587975918891\n",
      "10 [ 0.49667509 -0.13856218  0.64743179  1.52289295] 0.7608142309704233\n",
      "20 [ 0.49663955 -0.13883295  0.64719842  1.52276853] 0.7606697065036792\n",
      "30 [ 0.49660398 -0.13910369  0.64696508  1.52264414] 0.7605252241923411\n",
      "40 [ 0.49656838 -0.13937439  0.64673179  1.52251979] 0.7603807840370951\n",
      "50 [ 0.49653276 -0.13964506  0.64649853  1.52239548] 0.7602363860386216\n",
      "60 [ 0.4964971  -0.13991569  0.6462653   1.52227121] 0.7600920301976003\n",
      "70 [ 0.49646143 -0.1401863   0.64603211  1.52214697] 0.7599477165147095\n",
      "80 [ 0.49642572 -0.14045687  0.64579896  1.52202277] 0.7598034449906214\n",
      "90 [ 0.49638998 -0.1407274   0.64556585  1.52189861] 0.7596592156260108\n",
      "0 [ 0.47698924 -0.28874366  0.51798628  1.45386336] 0.7609587975918891\n",
      "10 [ 0.15672153 -1.06756059 -0.05049575  1.44145533] 0.4597851552754924\n",
      "20 [ 0.03601054 -1.32658084 -0.16097008  1.78381896] 0.41944414888387654\n",
      "30 [-1.09212534e-03 -1.52263067e+00 -2.52420503e-01  2.08657873e+00] 0.39354009951220814\n",
      "40 [-0.01189141 -1.68396354 -0.33900307  2.35136934] 0.3744476147885281\n",
      "50 [-0.01260754 -1.82024844 -0.42155377  2.58689487] 0.3596205182836162\n",
      "60 [-0.00842295 -1.93769351 -0.50042181  2.79936016] 0.34770034519118903\n",
      "70 [-1.31071917e-03 -2.04056061e+00 -5.75890557e-01  2.99324138e+00] 0.337858197121971\n",
      "80 [ 0.00780111 -2.13188205 -0.64822335  3.17186583] 0.3295547425110401\n",
      "90 [ 0.01837856 -2.21388336 -0.71766874  3.33776969] 0.3224232337544573\n",
      "0 [ 0.45726787 -0.43919594  0.38830737  1.38470931] 0.7609587975918891\n",
      "10 [ 0.02412909 -1.35315783 -0.17079232  1.82070655] 0.41892562955061885\n",
      "20 [-0.01383244 -1.70478151 -0.34780259  2.38294582] 0.37397559640548034\n",
      "30 [-0.00824156 -1.95475018 -0.50894464  2.82701503] 0.3472948785754922\n",
      "40 [ 0.00877121 -2.14626624 -0.65656899  3.19664225] 0.3292111814003687\n",
      "50 [ 0.03149291 -2.30064785 -0.79264399  3.51551842] 0.31591093529213554\n",
      "60 [ 0.05753493 -2.42982226 -0.91893176  3.79783612] 0.3055547974096899\n",
      "70 [ 0.08551825 -2.54108249 -1.03690328  4.05271548] 0.29714601761664927\n",
      "80 [ 0.11457901 -2.63917358 -1.14775271  4.28633027] 0.29009755225514405\n",
      "90 [ 0.14416121 -2.72732478 -1.25244611  4.50303226] 0.28404098671180955\n",
      "0 [ 0.43754651 -0.58964821  0.25862846  1.31555526] 0.7609587975918891\n",
      "10 [-0.01015441 -1.56908911 -0.27053258  2.15467709] 0.3925463062270523\n",
      "20 [-0.00792979 -1.97171148 -0.51750603  2.85463751] 0.34688532766445196\n",
      "30 [ 0.02087442 -2.24047547 -0.73425602  3.38500732] 0.3217846198939329\n",
      "40 [ 0.05931149 -2.44068346 -0.92702551  3.81876532] 0.30529452920888495\n",
      "50 [ 0.10203401 -2.60074962 -1.10102155  4.19088209] 0.29325963955524503\n",
      "60 [ 0.14642391 -2.73534822 -1.26009377  4.52060672] 0.2838512977798234\n",
      "70 [ 0.19112446 -2.85286925 -1.40705837  4.81954948] 0.276137376118586\n",
      "80 [ 0.23542226 -2.95844079 -1.54401701  5.09519005] 0.26959112446811206\n",
      "90 [ 0.27894723 -3.05534938 -1.67257705  5.35259476] 0.26389111481330996\n",
      "0 [ 0.41782514 -0.74010049  0.12894955  1.24640122] 0.7609587975918891\n",
      "10 [-0.01649413 -1.74606292 -0.36536698  2.44587267] 0.3730206208853049\n",
      "20 [ 0.01088624 -2.17482627 -0.67338834  3.24615095] 0.3285144283257774\n",
      "30 [ 0.06111762 -2.45149751 -0.93514687  3.83968166] 0.30503282003178034\n",
      "40 [ 0.11890438 -2.65667784 -1.16337062  4.32330526] 0.2896802208047683\n",
      "50 [ 0.1786016  -2.82262982 -1.36680675  4.73962596] 0.2783825324582749\n",
      "60 [ 0.23786441 -2.96494856 -1.55126947  5.11081034] 0.26943805024059725\n",
      "70 [ 0.2957168  -3.09201978 -1.72077483  5.44969762] 0.2620043980497859\n",
      "80 [ 0.35178911 -3.20867896 -1.87821096  5.76431013] 0.2556134156218711\n",
      "90 [ 0.4059892  -3.31786083 -2.0257228   6.05995387] 0.24998218148307058\n",
      "0 [ 3.98103780e-01 -8.90552768e-01 -7.29367428e-04  1.17724717e+00] 0.7609587975918891\n",
      "10 [-0.01357843 -1.89411381 -0.45616066  2.70373122] 0.35787929627279425\n",
      "20 [ 0.03600154 -2.33722526 -0.81740064  3.58287429] 0.3150278688893752\n",
      "30 [ 0.10623878 -2.61884827 -1.11676176  4.2285789 ] 0.29282775905015285\n",
      "40 [ 0.18094566 -2.82986241 -1.37427414  4.75619772] 0.2782123916075117\n",
      "50 [ 0.2549132  -3.00412112 -1.6020342   5.21333938] 0.26731654447579634\n",
      "60 [ 0.32642912 -3.15699451 -1.80764053  5.62379586] 0.2585729137915079\n",
      "70 [ 0.39503116 -3.29628296 -1.99616676  6.00096817] 0.25121643336244387\n",
      "80 [ 0.46072329 -3.42625772 -2.17116024  6.35306108] 0.24482484684359976\n",
      "90 [ 0.5236762  -3.54940141 -2.33518392  6.68542001] 0.2391438705171025\n",
      "0 [ 0.37838242 -1.04100505 -0.13040828  1.10809312] 0.7609587975918891\n",
      "10 [-0.00623927 -2.03054716 -0.54604055  2.93942229] 0.3453638621823304\n",
      "20 [ 0.06493767 -2.47566055 -0.95184463  3.88480703] 0.304389325365248\n",
      "30 [ 0.15357201 -2.76090954 -1.28387024  4.57595111] 0.2832073566276639\n",
      "40 [ 0.24307848 -2.97907445 -1.56661276  5.1442596 ] 0.26908061000323036\n",
      "50 [ 0.32925434 -3.16362711 -1.81542004  5.64028739] 0.2583988395211342\n",
      "60 [ 0.41118511 -3.32889365 -2.03955557  6.08857951] 0.24971964899279042\n",
      "70 [ 0.48893969 -3.48178248 -2.2450174   6.5026972 ] 0.2423429928244812\n",
      "80 [ 0.56286247 -3.62593007 -2.43587672  6.89083431] 0.23588334967553326\n",
      "90 [ 0.63334152 -3.76339906 -2.6149909   7.25828284] 0.23010854765578287\n",
      "0 [ 0.35866105 -1.19145732 -0.26008719  1.03893907] 0.7609587975918891\n",
      "10 [ 1.22062403e-03 -2.23182432e+00 -6.55587652e-01  3.17684297e+00] 0.3341193372757169\n",
      "20 [ 0.09755222 -2.6203103  -1.08114855  4.18907719] 0.2947877058825022\n",
      "30 [ 0.20402033 -2.89982614 -1.44536062  4.91546779] 0.27473286775272376\n",
      "40 [ 0.30692204 -3.12249864 -1.75143239  5.51930967] 0.26106395903680163\n",
      "50 [ 0.40381157 -3.31683814 -2.01919123  6.05098511] 0.25055575147913955\n",
      "60 [ 0.49478884 -3.494499   -2.25996589  6.53460964] 0.24191156963893623\n",
      "70 [ 0.58048613 -3.66091824 -2.48073911  6.98340308] 0.23449905514508979\n",
      "80 [ 0.66156399 -3.81892655 -2.68605058  7.40532022] 0.22796836202228907\n",
      "90 [ 0.73859318 -3.97015039 -2.87897315  7.80549549] 0.22210753534226604\n",
      "0 [ 0.33893969 -1.3419096  -0.38976611  0.96978502] 0.7609587975918891\n",
      "10 [ 1.87422769e-04 -2.51172237e+00 -7.74905795e-01  3.44122579e+00] 0.3262559473128346\n",
      "20 [ 0.13523068 -2.78578472 -1.21070486  4.51284153] 0.2856111651073719\n",
      "30 [ 0.25907321 -3.04503228 -1.60837043  5.26535362] 0.2667818563693275\n",
      "40 [ 0.37423043 -3.26832228 -1.93678     5.89931847] 0.2535912011541438\n",
      "50 [ 0.48052453 -3.47126188 -2.22168368  6.46303647] 0.24326621221233644\n",
      "60 [ 0.57933794 -3.66074867 -2.47731656  6.97905153] 0.23466980335822524\n",
      "70 [ 0.6719019  -3.84010902 -2.7118098   7.45978625] 0.22724052416724067\n",
      "80 [ 0.75916804 -4.01121356 -2.93013821  7.9127642 ] 0.22066427618997317\n",
      "90 [ 0.84185803 -4.17525129 -3.13552314  8.34288358] 0.21474829535382312\n",
      "0 [ 0.31921832 -1.49236188 -0.51944502  0.90063097] 0.7609587975918891\n",
      "10 [-0.01029206 -2.82809091 -0.88447098  3.73398716] 0.3226261607632078\n",
      "20 [ 0.18002003 -2.97134197 -1.34779553  4.84469069] 0.277153519861392\n",
      "30 [ 0.31866054 -3.19436082 -1.77479772  5.62385571] 0.2593025845433027\n",
      "40 [ 0.4446571  -3.41604738 -2.12394358  6.28495733] 0.24655287466702389\n",
      "50 [ 0.55910135 -3.62730214 -2.42417791  6.87809585] 0.23640505725582975\n",
      "60 [ 0.66466222 -3.82833485 -2.69302119  7.42403877] 0.22786606495433842\n",
      "70 [ 0.76314938 -4.02006992 -2.93980244  7.93421816] 0.22044019616890415\n",
      "80 [ 0.85575995 -4.20344727 -3.16984754  8.41566398] 0.21384584337320178\n",
      "90 [ 0.94333118 -4.37929796 -3.38645036  8.87303097] 0.20790689534007237\n",
      "0 [ 0.4967106  -0.13829138  0.6476652   1.52301741] 0.7609587975918891\n",
      "0 [ 0.47698924 -0.28874366  0.51798628  1.45386336] 0.7609587975918891\n",
      "0 [ 0.45726787 -0.43919594  0.38830737  1.38470931] 0.7609587975918891\n",
      "0 [ 0.43754651 -0.58964821  0.25862846  1.31555526] 0.7609587975918891\n",
      "0 [ 0.41782514 -0.74010049  0.12894955  1.24640122] 0.7609587975918891\n",
      "0 [ 3.98103780e-01 -8.90552768e-01 -7.29367428e-04  1.17724717e+00] 0.7609587975918891\n",
      "0 [ 0.37838242 -1.04100505 -0.13040828  1.10809312] 0.7609587975918891\n",
      "0 [ 0.35866105 -1.19145732 -0.26008719  1.03893907] 0.7609587975918891\n",
      "0 [ 0.33893969 -1.3419096  -0.38976611  0.96978502] 0.7609587975918891\n",
      "0 [ 0.31921832 -1.49236188 -0.51944502  0.90063097] 0.7609587975918891\n",
      "0 [ 0.4967106  -0.13829138  0.6476652   1.52301741] 0.7609587975918891\n",
      "0 [ 0.47698924 -0.28874366  0.51798628  1.45386336] 0.7609587975918891\n",
      "0 [ 0.45726787 -0.43919594  0.38830737  1.38470931] 0.7609587975918891\n"
     ]
    },
    {
     "name": "stdout",
     "output_type": "stream",
     "text": [
      "0 [ 0.43754651 -0.58964821  0.25862846  1.31555526] 0.7609587975918891\n",
      "0 [ 0.41782514 -0.74010049  0.12894955  1.24640122] 0.7609587975918891\n",
      "0 [ 3.98103780e-01 -8.90552768e-01 -7.29367428e-04  1.17724717e+00] 0.7609587975918891\n",
      "0 [ 0.37838242 -1.04100505 -0.13040828  1.10809312] 0.7609587975918891\n",
      "0 [ 0.35866105 -1.19145732 -0.26008719  1.03893907] 0.7609587975918891\n",
      "0 [ 0.33893969 -1.3419096  -0.38976611  0.96978502] 0.7609587975918891\n"
     ]
    },
    {
     "name": "stderr",
     "output_type": "stream",
     "text": [
      "\r",
      " 75%|███████▌  | 3/4 [00:01<00:00,  2.35it/s]"
     ]
    },
    {
     "name": "stdout",
     "output_type": "stream",
     "text": [
      "0 [ 0.31921832 -1.49236188 -0.51944502  0.90063097] 0.7609587975918891\n",
      "0 [ 0.4967106  -0.13829138  0.6476652   1.52301741] 0.7609587975918891\n",
      "1000 [ 0.49302397 -0.16520638  0.62450579  1.51075556] 0.7467109036186903\n",
      "2000 [ 0.48906889 -0.1917824   0.60171741  1.49886984] 0.7328851147504921\n",
      "3000 [ 0.48485312 -0.21801115  0.57930737  1.48736648] 0.7194818165914669\n",
      "4000 [ 0.48038538 -0.2438842   0.55728307  1.47625153] 0.7065012183107816\n",
      "5000 [ 0.47567528 -0.26939285  0.53565197  1.46553094] 0.6939433627853269\n",
      "6000 [ 0.47073331 -0.29452821  0.51442162  1.45521049] 0.6818081229012078\n",
      "7000 [ 0.46557083 -0.31928118  0.49359961  1.4452958 ] 0.6700951822188492\n",
      "8000 [ 0.46019997 -0.34364246  0.47319356  1.43579234] 0.6588039988178414\n",
      "9000 [ 0.45463361 -0.36760264  0.45321108  1.42670537] 0.6479337519293036\n",
      "0 [ 0.47698924 -0.28874366  0.51798628  1.45386336] 0.7609587975918891\n",
      "1000 [ 1.08062556 -4.65942087 -3.72551255  9.59519702] 0.19866914400855498\n",
      "2000 [ 1.78390764 -6.16954198 -5.48386767 13.41602449] 0.16141536734221057\n",
      "3000 [ 2.27939039 -7.29928842 -6.76148271 16.23835807] 0.14128495687084736\n",
      "4000 [ 2.66274883 -8.20306472 -7.77660757 18.49281207] 0.1285035336729429\n",
      "5000 [ 2.97708608 -8.95860791 -8.6279246  20.38402519] 0.1195364386844326\n",
      "6000 [ 3.24517465 -9.6100752  -9.36857493 22.02514359] 0.11279830597257649\n",
      "7000 [  3.48034293 -10.18465931 -10.03015752  23.48466514] 0.10747714145854625\n",
      "8000 [  3.69100134 -10.70017604 -10.63285192  24.80692381] 0.10311506468769627\n",
      "9000 [  3.88277186 -11.16888402 -11.19026305  26.02213295] 0.09943429115242579\n",
      "0 [ 0.45726787 -0.43919594  0.38830737  1.38470931] 0.7609587975918891\n",
      "1000 [ 1.78510934 -6.17221816 -5.48692272 13.42273623] 0.16138705893317037\n",
      "2000 [ 2.66348258 -8.2048147  -7.77857389 18.49718247] 0.12849162184346602\n",
      "3000 [ 3.24569858 -9.61135344 -9.37003561 22.02837483] 0.11279180125997809\n",
      "4000 [  3.6914054  -10.70116562 -10.63401667  24.80947293] 0.10311101560681549\n",
      "5000 [  4.059912   -11.60035154 -11.71292483  27.15382704] 0.0962536589671921\n",
      "6000 [  4.37930691 -12.37188324 -12.67509385  29.21496982] 0.0909632214773881\n",
      "7000 [  4.66500052 -13.05167284 -13.55802229  31.07878273] 0.08664261059188555\n",
      "8000 [  4.92630669 -13.66225191 -14.38409093  32.79773465] 0.08297035257172446\n",
      "9000 [  5.16923934 -14.21882298 -15.16738742  34.40591045] 0.07975755686831444\n",
      "0 [ 0.43754651 -0.58964821  0.25862846  1.31555526] 0.7609587975918891\n",
      "1000 [ 2.28129412 -7.30371631 -6.76646366 16.24940227] 0.14124704973616828\n",
      "2000 [ 3.24631287 -9.61285205 -9.37174838 22.03216349] 0.11278315070528329\n",
      "3000 [  3.88359352 -11.17089176 -11.19266827  26.02736249] 0.0994258711452971\n",
      "4000 [  4.37968387 -12.37278901 -12.67624388  29.21741735] 0.0909596499802191\n",
      "5000 [  4.7985929  -13.36529474 -13.97816246  31.9560469 ] 0.0847366843861367\n",
      "6000 [  5.16952626 -14.21947556 -15.16831986  34.40781512] 0.07975537754958778\n",
      "7000 [  5.50798981 -14.97593112 -16.2821838   36.66085176] 0.07555087376734598\n",
      "8000 [  5.82295352 -15.66048194 -17.33890812  38.76654814] 0.0718784496319867\n",
      "9000 [  6.11988242 -16.29060757 -18.34927582  40.75663217] 0.06859766681236432\n",
      "0 [ 0.41782514 -0.74010049  0.12894955  1.24640122] 0.7609587975918891\n",
      "1000 [ 2.66513757 -8.20876213 -7.78300942 18.50704095] 0.12846206031018506\n",
      "2000 [  3.69243122 -10.70367743 -10.63697434  24.81594491] 0.10309858742088332\n",
      "3000 [  4.38008834 -12.37376072 -12.67747793  29.22004347] 0.09095564503772109\n",
      "4000 [  4.92695779 -13.66376206 -14.38616881  32.80203335] 0.08296491312620427\n",
      "5000 [  5.39843203 -14.73350302 -15.91896012  35.93024007] 0.07688168381875163\n",
      "6000 [  5.82322729 -15.66107096 -17.33983313  38.76838158] 0.07187649966016971\n",
      "7000 [  6.21574136 -16.491306   -18.67781336  41.39976282] 0.067573510092251\n",
      "8000 [  6.58376487 -17.25179106 -19.94726752  43.87063977] 0.06377845143304264\n",
      "9000 [  6.93181603 -17.95984598 -21.15636024  46.20875388] 0.06037946768080734\n",
      "0 [ 3.98103780e-01 -8.90552768e-01 -7.29367428e-04  1.17724717e+00] 0.7609587975918891\n",
      "1000 [ 2.97984191 -8.96527769 -8.63546589 20.40076511] 0.11949380281800537\n",
      "2000 [  4.06125369 -11.60361579 -11.7169102   27.16243142] 0.09623917293864266\n",
      "3000 [  4.79930914 -13.36697175 -13.98042529  31.96075983] 0.08473029294837144\n",
      "4000 [  5.39874417 -14.73419884 -15.91999048  35.93232035] 0.07687921861967849\n",
      "5000 [  5.92428023 -15.87705168 -17.68233068  39.44524506] 0.07074252155237361\n",
      "6000 [  6.40273762 -16.87953369 -19.32139753  42.65496301] 0.06561905053839792\n",
      "7000 [  6.84674094 -17.78755304 -20.86025119  45.63718436] 0.061194956337404405\n",
      "8000 [  7.26296136 -18.62690885 -22.31141326  48.43364612] 0.057304076025751216\n",
      "9000 [  7.65543389 -19.41247095 -23.68367608  51.0705015 ] 0.05384430153019726\n",
      "0 [ 0.37838242 -1.04100505 -0.13040828  1.10809312] 0.7609587975918891\n",
      "1000 [ 3.24831104 -9.61772678 -9.37732039 22.04448827] 0.11275350694277009\n",
      "2000 [  4.3809626  -12.37586079 -12.68014564  29.22571996] 0.09094660561178751\n",
      "3000 [  5.17054514 -14.22179176 -15.17163174  34.41457863] 0.07974680495311894\n",
      "4000 [  5.82383745 -15.66238328 -17.3418949   38.77246766] 0.07187189027659155\n",
      "5000 [  6.40303172 -16.88014216 -19.32241172  42.65693786] 0.06561696721642099\n",
      "6000 [  6.93232436 -17.96087527 -21.15812992  46.21216943] 0.06037624346669025\n",
      "7000 [  7.42287755 -18.94749566 -22.87024137  49.50808386] 0.05587135622947258\n",
      "8000 [  7.88094406 -19.86237342 -24.47302522  52.58546286] 0.05194378300211081\n",
      "9000 [  8.31071776 -20.71825587 -25.97805158  55.47225849] 0.0484876090449889\n",
      "0 [ 0.35866105 -1.19145732 -0.26008719  1.03893907] 0.7609587975918891\n",
      "1000 [  3.48438211 -10.19454657 -10.04161808  23.50988865] 0.10741871079981413\n",
      "2000 [  4.6672894  -13.05707945 -13.56517662  31.09378553] 0.08661923686336499\n",
      "3000 [  5.50956335 -14.97940357 -16.28741434  36.67135475] 0.07553719180058636\n",
      "4000 [  6.21686544 -16.49365598 -18.68167006  41.40730676] 0.06756459877230726\n",
      "5000 [  6.84751968 -17.78913342 -20.8629596   45.64241647] 0.061189106569015675\n",
      "6000 [  7.4233416  -18.94842509 -22.8718636   49.51120174] 0.05586794366758054\n",
      "7000 [  7.95487302 -20.00971436 -24.73187352  53.08208301] 0.05133446072789728\n",
      "8000 [  8.44865916 -20.99273575 -26.46116197  56.39869455] 0.04742370391179572\n",
      "9000 [  8.90949698 -21.90950632 -28.07493658  59.49332625] 0.04401910542171947\n",
      "0 [ 0.33893969 -1.3419096  -0.38976611  0.96978502] 0.7609587975918891\n",
      "1000 [  3.69668893 -10.71409825 -10.6492561   24.84281039] 0.10302988848103811\n",
      "2000 [  4.92971285 -13.67014303 -14.39496713  32.82022242] 0.08293427650036846\n",
      "3000 [  5.8254804  -15.66591121 -17.34744959  38.78346897] 0.07185557972875292\n",
      "4000 [  6.58575053 -17.25586056 -19.95414414  43.88397735] 0.06376213264480687\n",
      "5000 [  7.26453304 -18.63006476 -22.31690235  48.44420621] 0.057292021952394266\n",
      "6000 [  7.88214753 -19.86477268 -24.47723861  52.59354741] 0.05193502725470328\n",
      "7000 [  8.44936836 -20.99414681 -26.46364576  56.40345752] 0.04741880630585725\n",
      "8000 [  8.97353142 -22.03689666 -28.29912864  59.92328029] 0.04356444010156091\n",
      "9000 [  9.46028411 -23.00549864 -30.00279769  63.1911379 ] 0.040242440037879613\n",
      "0 [ 0.31921832 -1.49236188 -0.51944502  0.90063097] 0.7609587975918891\n",
      "1000 [  3.8906923  -11.18822306 -11.21346418  26.07255018] 0.09931479176388656\n",
      "2000 [  5.17417554 -14.23002856 -15.18344243  34.43867639] 0.0797046431553467\n",
      "3000 [  6.12371381 -16.29866082 -18.36238341  40.78233436] 0.06856260928192236\n",
      "4000 [  6.93496728 -17.96622235 -21.16733294  46.22992645] 0.06035351677645272\n"
     ]
    },
    {
     "name": "stderr",
     "output_type": "stream",
     "text": [
      "\r",
      "100%|██████████| 4/4 [00:05<00:00,  1.74s/it]"
     ]
    },
    {
     "name": "stdout",
     "output_type": "stream",
     "text": [
      "5000 [  7.65806279 -19.41772124 -23.69287505  51.0881632 ] 0.05382439460354144\n",
      "6000 [  8.31289168 -20.72258226 -25.98566525  55.48685937] 0.04847229101045667\n",
      "7000 [  8.91111697 -21.91272906 -28.08060854  59.5042037 ] 0.04400844757328365\n",
      "8000 [  9.46116677 -23.0072556  -30.00588618  63.19706309] 0.0402370182138431\n",
      "9000 [  9.96965864 -24.01983811 -31.78454258  66.61013199] 0.03701577817302827\n"
     ]
    },
    {
     "name": "stderr",
     "output_type": "stream",
     "text": [
      "\r",
      "100%|██████████| 4/4 [00:05<00:00,  1.26s/it]"
     ]
    },
    {
     "name": "stdout",
     "output_type": "stream",
     "text": [
      "Ошибка 0.0342406255554497 при параметрах {'iteration': 10000, 'eta': 5.0}\n"
     ]
    },
    {
     "name": "stderr",
     "output_type": "stream",
     "text": [
      "\n"
     ]
    }
   ],
   "source": [
    "iterations = np.logspace(2, 4, 4, dtype=np.int)\n",
    "etas = np.linspace(1e-4, 5, 10)\n",
    "\n",
    "best_error = np.inf\n",
    "best_params = {}\n",
    "\n",
    "for iteration in tqdm(iterations):\n",
    "    for eta in etas:\n",
    "        W, error = eval_model(X_st, y, iterations=iteration, eta=eta)\n",
    "        if error < best_error:\n",
    "            best_error = error\n",
    "            best_params = {\n",
    "                'iteration': iteration,\n",
    "                'eta': eta\n",
    "            }\n",
    "\n",
    "print(f'Ошибка {best_error} при параметрах {best_params}')"
   ]
  },
  {
   "cell_type": "code",
   "execution_count": 20,
   "id": "58ad1cd8",
   "metadata": {},
   "outputs": [
    {
     "name": "stdout",
     "output_type": "stream",
     "text": [
      "0 [ 0.31921832 -1.49236188 -0.51944502  0.90063097] 0.7609587975918891\n",
      "1000 [  3.8906923  -11.18822306 -11.21346418  26.07255018] 0.09931479176388656\n",
      "2000 [  5.17417554 -14.23002856 -15.18344243  34.43867639] 0.0797046431553467\n",
      "3000 [  6.12371381 -16.29866082 -18.36238341  40.78233436] 0.06856260928192236\n",
      "4000 [  6.93496728 -17.96622235 -21.16733294  46.22992645] 0.06035351677645272\n",
      "5000 [  7.65806279 -19.41772124 -23.69287505  51.0881632 ] 0.05382439460354144\n",
      "6000 [  8.31289168 -20.72258226 -25.98566525  55.48685937] 0.04847229101045667\n",
      "7000 [  8.91111697 -21.91272906 -28.08060854  59.5042037 ] 0.04400844757328365\n",
      "8000 [  9.46116677 -23.0072556  -30.00588618  63.19706309] 0.0402370182138431\n",
      "9000 [  9.96965864 -24.01983811 -31.78454258  66.61013199] 0.03701577817302827\n"
     ]
    }
   ],
   "source": [
    "W, error = eval_model(X_st, y, iterations=10000, eta=5)"
   ]
  },
  {
   "cell_type": "markdown",
   "id": "bc57c0fb",
   "metadata": {},
   "source": [
    "***3. Создайте функцию calc_pred_proba, возвращающую предсказанную вероятность класса 1 (на вход подаются W, который уже посчитан функцией eval_model и X, на выходе - массив y_pred_proba).***"
   ]
  },
  {
   "cell_type": "code",
   "execution_count": 21,
   "id": "459c60ac",
   "metadata": {},
   "outputs": [],
   "source": [
    "def calc_pred_proba(W, X):\n",
    "    y_pred_proba = sigmoid(np.dot(X, W))\n",
    "    return y_pred_proba"
   ]
  },
  {
   "cell_type": "code",
   "execution_count": 22,
   "id": "e76dd285",
   "metadata": {},
   "outputs": [
    {
     "data": {
      "text/plain": [
       "array([1.55089257e-01, 1.88274518e-07, 1.00000000e+00, 8.69070312e-20,\n",
       "       9.88924625e-01, 1.29675527e-06, 1.00000000e+00, 2.82998028e-03,\n",
       "       8.52243093e-01, 1.00000000e+00])"
      ]
     },
     "execution_count": 22,
     "metadata": {},
     "output_type": "execute_result"
    }
   ],
   "source": [
    "calc_pred_proba(W, X_st)"
   ]
  },
  {
   "cell_type": "markdown",
   "id": "9c5b4729",
   "metadata": {},
   "source": [
    "***4. Создайте функцию calc_pred, возвращающую предсказанный класс (на вход подаются W, который уже посчитан функцией eval_model и X, на выходе - массив y_pred).***"
   ]
  },
  {
   "cell_type": "code",
   "execution_count": 23,
   "id": "a7933a8d",
   "metadata": {},
   "outputs": [],
   "source": [
    "def calc_pred(W, X):\n",
    "    y_pred_proba = calc_pred_proba(W, X)\n",
    "    y_pred = np.where(y_pred_proba > 0.5, 1, 0)\n",
    "    return y_pred"
   ]
  },
  {
   "cell_type": "code",
   "execution_count": 24,
   "id": "65d1e62b",
   "metadata": {},
   "outputs": [
    {
     "data": {
      "text/plain": [
       "array([0, 0, 1, 0, 1, 0, 1, 0, 1, 1])"
      ]
     },
     "execution_count": 24,
     "metadata": {},
     "output_type": "execute_result"
    }
   ],
   "source": [
    "pred = calc_pred(W, X_st)\n",
    "pred"
   ]
  },
  {
   "cell_type": "markdown",
   "id": "80058167",
   "metadata": {},
   "source": [
    "***5. *Реализуйте функции для подсчета Accuracy, матрицы ошибок, точности и полноты, а также F1 score.***"
   ]
  },
  {
   "cell_type": "markdown",
   "id": "cf25865a",
   "metadata": {},
   "source": [
    "*Accuracy*"
   ]
  },
  {
   "cell_type": "code",
   "execution_count": 25,
   "id": "d2cef305",
   "metadata": {},
   "outputs": [],
   "source": [
    "def accuracy(y, y_pred):\n",
    "    accuracy = np.mean(y == y_pred)\n",
    "    return accuracy"
   ]
  },
  {
   "cell_type": "code",
   "execution_count": 26,
   "id": "2be10a47",
   "metadata": {},
   "outputs": [
    {
     "name": "stdout",
     "output_type": "stream",
     "text": [
      "True \t  [0 0 1 0 1 0 1 0 1 1]\n",
      "Predicted [0 0 1 0 1 0 1 0 1 1]\n"
     ]
    }
   ],
   "source": [
    "print(f'True \\t  {y.astype(int)}')\n",
    "print(f'Predicted {pred}')"
   ]
  },
  {
   "cell_type": "code",
   "execution_count": 27,
   "id": "482f9763",
   "metadata": {},
   "outputs": [
    {
     "data": {
      "text/plain": [
       "1.0"
      ]
     },
     "execution_count": 27,
     "metadata": {},
     "output_type": "execute_result"
    }
   ],
   "source": [
    "accuracy(y, pred)"
   ]
  },
  {
   "cell_type": "markdown",
   "id": "ea4b6a57",
   "metadata": {},
   "source": [
    "*Confusion Matrix*"
   ]
  },
  {
   "cell_type": "code",
   "execution_count": 28,
   "id": "2a3b7c54",
   "metadata": {},
   "outputs": [],
   "source": [
    "def confusion_matrix(y, y_pred):\n",
    "    cm = np.zeros((2, 2))\n",
    "    for i in range(len(y)): \n",
    "        if y[i] == y_pred[i] == 1: # TP\n",
    "            cm[0][0] += 1\n",
    "        elif y[i] == y_pred[i] == 0: # TN\n",
    "            cm[1][1] += 1\n",
    "        elif y[i] != y_pred[i] and y[i] == 1: # FN\n",
    "            cm[1][0] += 1\n",
    "        elif y[i] != y_pred[i] and y[i] == 0: # FP\n",
    "            cm[0][1] += 1\n",
    "    return cm"
   ]
  },
  {
   "cell_type": "code",
   "execution_count": 29,
   "id": "b179fafe",
   "metadata": {},
   "outputs": [
    {
     "data": {
      "text/plain": [
       "array([[5., 0.],\n",
       "       [0., 5.]])"
      ]
     },
     "execution_count": 29,
     "metadata": {},
     "output_type": "execute_result"
    }
   ],
   "source": [
    "cm = confusion_matrix(y, pred)\n",
    "cm"
   ]
  },
  {
   "cell_type": "markdown",
   "id": "a5580d6a",
   "metadata": {},
   "source": [
    "*Precision*"
   ]
  },
  {
   "cell_type": "code",
   "execution_count": 30,
   "id": "03d87322",
   "metadata": {},
   "outputs": [],
   "source": [
    "def precision(y, y_pred):\n",
    "    cm = confusion_matrix(y, y_pred)\n",
    "    TP = cm[0][0]\n",
    "    TN = cm[1][1]\n",
    "    FP = cm[0][1]\n",
    "    FN = cm[1][0]\n",
    "    precision = TP / (TP + FP)\n",
    "    return precision"
   ]
  },
  {
   "cell_type": "code",
   "execution_count": 31,
   "id": "b9a42711",
   "metadata": {},
   "outputs": [
    {
     "data": {
      "text/plain": [
       "1.0"
      ]
     },
     "execution_count": 31,
     "metadata": {},
     "output_type": "execute_result"
    }
   ],
   "source": [
    "precision(y, pred)"
   ]
  },
  {
   "cell_type": "markdown",
   "id": "4111cf3b",
   "metadata": {},
   "source": [
    "*Recall*"
   ]
  },
  {
   "cell_type": "code",
   "execution_count": 32,
   "id": "d7bee3fe",
   "metadata": {},
   "outputs": [],
   "source": [
    "def recall(y, y_pred):\n",
    "    cm = confusion_matrix(y, y_pred)\n",
    "    TP = cm[0][0]\n",
    "    TN = cm[1][1]\n",
    "    FP = cm[0][1]\n",
    "    FN = cm[1][0]\n",
    "    recall = TP / (TP + FN)\n",
    "    return recall"
   ]
  },
  {
   "cell_type": "code",
   "execution_count": 33,
   "id": "9e8ffe06",
   "metadata": {},
   "outputs": [
    {
     "data": {
      "text/plain": [
       "1.0"
      ]
     },
     "execution_count": 33,
     "metadata": {},
     "output_type": "execute_result"
    }
   ],
   "source": [
    "recall(y, pred)"
   ]
  },
  {
   "cell_type": "markdown",
   "id": "9abcd07c",
   "metadata": {},
   "source": [
    "*F-score*"
   ]
  },
  {
   "cell_type": "code",
   "execution_count": 34,
   "id": "ac840028",
   "metadata": {},
   "outputs": [],
   "source": [
    "def f_score(y, y_pred):\n",
    "    pr = precision(y, y_pred)\n",
    "    rec = recall(y, y_pred)\n",
    "    f_score = 2 * pr * rec / (pr + rec)\n",
    "    return f_score"
   ]
  },
  {
   "cell_type": "code",
   "execution_count": 35,
   "id": "fce5b8bf",
   "metadata": {},
   "outputs": [
    {
     "data": {
      "text/plain": [
       "1.0"
      ]
     },
     "execution_count": 35,
     "metadata": {},
     "output_type": "execute_result"
    }
   ],
   "source": [
    "f_score(y, pred)"
   ]
  },
  {
   "cell_type": "markdown",
   "id": "3095fcd4",
   "metadata": {},
   "source": [
    "***6. Могла ли модель переобучиться? Почему?***"
   ]
  },
  {
   "cell_type": "markdown",
   "id": "eb57fd1f",
   "metadata": {},
   "source": [
    "Да, т.к. у нас маленький размер выборки (мало данных) и нет разделения на обучающую и тестовую выборку для проверки. Для снижения переобучения можно увеличить количество данных, уменьшить количество итераций, а также использовать L1 и L2 регуляризацию."
   ]
  },
  {
   "cell_type": "code",
   "execution_count": null,
   "id": "574d913b",
   "metadata": {},
   "outputs": [],
   "source": []
  }
 ],
 "metadata": {
  "kernelspec": {
   "display_name": "Python 3 (ipykernel)",
   "language": "python",
   "name": "python3"
  },
  "language_info": {
   "codemirror_mode": {
    "name": "ipython",
    "version": 3
   },
   "file_extension": ".py",
   "mimetype": "text/x-python",
   "name": "python",
   "nbconvert_exporter": "python",
   "pygments_lexer": "ipython3",
   "version": "3.9.13"
  }
 },
 "nbformat": 4,
 "nbformat_minor": 5
}
